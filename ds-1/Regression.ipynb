{
 "cells": [
  {
   "cell_type": "markdown",
   "metadata": {},
   "source": [
    "## Challenge 1 - Regression\n",
    "There is a target variable in the dataset regression.zip called Price. Please create a model that predicts Price given a set of observed regressors."
   ]
  },
  {
   "cell_type": "code",
   "execution_count": 3,
   "metadata": {},
   "outputs": [
    {
     "name": "stderr",
     "output_type": "stream",
     "text": [
      "/Users/carliebadder/anaconda/lib/python3.6/site-packages/statsmodels/compat/pandas.py:56: FutureWarning: The pandas.core.datetools module is deprecated and will be removed in a future version. Please use the pandas.tseries module instead.\n",
      "  from pandas.core import datetools\n"
     ]
    }
   ],
   "source": [
    "# Necessary imports\n",
    "import pandas as pd\n",
    "import numpy as np\n",
    "from matplotlib import pyplot as plt\n",
    "import seaborn as sns\n",
    "\n",
    "import patsy\n",
    "import statsmodels.api as sm\n",
    "import statsmodels.formula.api as smf\n",
    "from sklearn.linear_model import LinearRegression\n",
    "\n",
    "%matplotlib inline"
   ]
  },
  {
   "cell_type": "code",
   "execution_count": 4,
   "metadata": {
    "collapsed": true
   },
   "outputs": [],
   "source": [
    "df_orig = pd.read_csv('challenge1.csv')"
   ]
  },
  {
   "cell_type": "code",
   "execution_count": 5,
   "metadata": {
    "scrolled": true
   },
   "outputs": [
    {
     "data": {
      "text/html": [
       "<div>\n",
       "<style>\n",
       "    .dataframe thead tr:only-child th {\n",
       "        text-align: right;\n",
       "    }\n",
       "\n",
       "    .dataframe thead th {\n",
       "        text-align: left;\n",
       "    }\n",
       "\n",
       "    .dataframe tbody tr th {\n",
       "        vertical-align: top;\n",
       "    }\n",
       "</style>\n",
       "<table border=\"1\" class=\"dataframe\">\n",
       "  <thead>\n",
       "    <tr style=\"text-align: right;\">\n",
       "      <th></th>\n",
       "      <th>loc1</th>\n",
       "      <th>loc2</th>\n",
       "      <th>para1</th>\n",
       "      <th>dow</th>\n",
       "      <th>para2</th>\n",
       "      <th>para3</th>\n",
       "      <th>para4</th>\n",
       "      <th>price</th>\n",
       "    </tr>\n",
       "  </thead>\n",
       "  <tbody>\n",
       "    <tr>\n",
       "      <th>0</th>\n",
       "      <td>0</td>\n",
       "      <td>01</td>\n",
       "      <td>1</td>\n",
       "      <td>Mon</td>\n",
       "      <td>662</td>\n",
       "      <td>3000.0</td>\n",
       "      <td>3.8</td>\n",
       "      <td>73.49</td>\n",
       "    </tr>\n",
       "    <tr>\n",
       "      <th>1</th>\n",
       "      <td>9</td>\n",
       "      <td>99</td>\n",
       "      <td>1</td>\n",
       "      <td>Thu</td>\n",
       "      <td>340</td>\n",
       "      <td>2760.0</td>\n",
       "      <td>9.2</td>\n",
       "      <td>300.00</td>\n",
       "    </tr>\n",
       "    <tr>\n",
       "      <th>2</th>\n",
       "      <td>0</td>\n",
       "      <td>04</td>\n",
       "      <td>0</td>\n",
       "      <td>Mon</td>\n",
       "      <td>16</td>\n",
       "      <td>2700.0</td>\n",
       "      <td>3.0</td>\n",
       "      <td>130.00</td>\n",
       "    </tr>\n",
       "    <tr>\n",
       "      <th>3</th>\n",
       "      <td>4</td>\n",
       "      <td>40</td>\n",
       "      <td>1</td>\n",
       "      <td>Mon</td>\n",
       "      <td>17</td>\n",
       "      <td>12320.0</td>\n",
       "      <td>6.4</td>\n",
       "      <td>365.00</td>\n",
       "    </tr>\n",
       "    <tr>\n",
       "      <th>4</th>\n",
       "      <td>5</td>\n",
       "      <td>50</td>\n",
       "      <td>1</td>\n",
       "      <td>Thu</td>\n",
       "      <td>610</td>\n",
       "      <td>2117.0</td>\n",
       "      <td>10.8</td>\n",
       "      <td>357.50</td>\n",
       "    </tr>\n",
       "    <tr>\n",
       "      <th>5</th>\n",
       "      <td>0</td>\n",
       "      <td>03</td>\n",
       "      <td>1</td>\n",
       "      <td>Tue</td>\n",
       "      <td>483</td>\n",
       "      <td>1899.0</td>\n",
       "      <td>13.6</td>\n",
       "      <td>550.00</td>\n",
       "    </tr>\n",
       "    <tr>\n",
       "      <th>6</th>\n",
       "      <td>0</td>\n",
       "      <td>09</td>\n",
       "      <td>1</td>\n",
       "      <td>Mon</td>\n",
       "      <td>214</td>\n",
       "      <td>1000.0</td>\n",
       "      <td>3.0</td>\n",
       "      <td>210.00</td>\n",
       "    </tr>\n",
       "    <tr>\n",
       "      <th>7</th>\n",
       "      <td>7</td>\n",
       "      <td>74</td>\n",
       "      <td>1</td>\n",
       "      <td>Wed</td>\n",
       "      <td>452</td>\n",
       "      <td>330.0</td>\n",
       "      <td>3.0</td>\n",
       "      <td>366.67</td>\n",
       "    </tr>\n",
       "    <tr>\n",
       "      <th>8</th>\n",
       "      <td>8</td>\n",
       "      <td>89</td>\n",
       "      <td>1</td>\n",
       "      <td>Tue</td>\n",
       "      <td>130</td>\n",
       "      <td>8000.0</td>\n",
       "      <td>4.5</td>\n",
       "      <td>193.33</td>\n",
       "    </tr>\n",
       "    <tr>\n",
       "      <th>9</th>\n",
       "      <td>1</td>\n",
       "      <td>17</td>\n",
       "      <td>4</td>\n",
       "      <td>Fri</td>\n",
       "      <td>1004</td>\n",
       "      <td>3135.0</td>\n",
       "      <td>13.2</td>\n",
       "      <td>1400.00</td>\n",
       "    </tr>\n",
       "    <tr>\n",
       "      <th>10</th>\n",
       "      <td>3</td>\n",
       "      <td>34</td>\n",
       "      <td>1</td>\n",
       "      <td>Wed</td>\n",
       "      <td>374</td>\n",
       "      <td>24406.0</td>\n",
       "      <td>13.6</td>\n",
       "      <td>510.00</td>\n",
       "    </tr>\n",
       "    <tr>\n",
       "      <th>11</th>\n",
       "      <td>3</td>\n",
       "      <td>30</td>\n",
       "      <td>1</td>\n",
       "      <td>Thu</td>\n",
       "      <td>440</td>\n",
       "      <td>7685.0</td>\n",
       "      <td>13.6</td>\n",
       "      <td>400.00</td>\n",
       "    </tr>\n",
       "    <tr>\n",
       "      <th>12</th>\n",
       "      <td>2</td>\n",
       "      <td>21</td>\n",
       "      <td>1</td>\n",
       "      <td>Wed</td>\n",
       "      <td>659</td>\n",
       "      <td>18000.0</td>\n",
       "      <td>13.6</td>\n",
       "      <td>800.00</td>\n",
       "    </tr>\n",
       "    <tr>\n",
       "      <th>13</th>\n",
       "      <td>5</td>\n",
       "      <td>50</td>\n",
       "      <td>1</td>\n",
       "      <td>Tue</td>\n",
       "      <td>292</td>\n",
       "      <td>3037.0</td>\n",
       "      <td>6.0</td>\n",
       "      <td>400.00</td>\n",
       "    </tr>\n",
       "    <tr>\n",
       "      <th>14</th>\n",
       "      <td>5</td>\n",
       "      <td>59</td>\n",
       "      <td>1</td>\n",
       "      <td>Wed</td>\n",
       "      <td>733</td>\n",
       "      <td>22410.0</td>\n",
       "      <td>13.6</td>\n",
       "      <td>2200.00</td>\n",
       "    </tr>\n",
       "    <tr>\n",
       "      <th>15</th>\n",
       "      <td>3</td>\n",
       "      <td>30</td>\n",
       "      <td>0</td>\n",
       "      <td>Wed</td>\n",
       "      <td>269</td>\n",
       "      <td>3530.0</td>\n",
       "      <td>13.6</td>\n",
       "      <td>360.00</td>\n",
       "    </tr>\n",
       "    <tr>\n",
       "      <th>16</th>\n",
       "      <td>9</td>\n",
       "      <td>99</td>\n",
       "      <td>3</td>\n",
       "      <td>Fri</td>\n",
       "      <td>55</td>\n",
       "      <td>900.0</td>\n",
       "      <td>2.7</td>\n",
       "      <td>180.00</td>\n",
       "    </tr>\n",
       "    <tr>\n",
       "      <th>17</th>\n",
       "      <td>5</td>\n",
       "      <td>59</td>\n",
       "      <td>1</td>\n",
       "      <td>Tue</td>\n",
       "      <td>473</td>\n",
       "      <td>5000.0</td>\n",
       "      <td>5.0</td>\n",
       "      <td>380.00</td>\n",
       "    </tr>\n",
       "    <tr>\n",
       "      <th>18</th>\n",
       "      <td>3</td>\n",
       "      <td>30</td>\n",
       "      <td>1</td>\n",
       "      <td>Tue</td>\n",
       "      <td>269</td>\n",
       "      <td>15000.0</td>\n",
       "      <td>13.6</td>\n",
       "      <td>360.00</td>\n",
       "    </tr>\n",
       "    <tr>\n",
       "      <th>19</th>\n",
       "      <td>2</td>\n",
       "      <td>28</td>\n",
       "      <td>1</td>\n",
       "      <td>Mon</td>\n",
       "      <td>384</td>\n",
       "      <td>4750.0</td>\n",
       "      <td>6.8</td>\n",
       "      <td>250.00</td>\n",
       "    </tr>\n",
       "  </tbody>\n",
       "</table>\n",
       "</div>"
      ],
      "text/plain": [
       "   loc1 loc2  para1  dow  para2    para3  para4    price\n",
       "0     0   01      1  Mon    662   3000.0    3.8    73.49\n",
       "1     9   99      1  Thu    340   2760.0    9.2   300.00\n",
       "2     0   04      0  Mon     16   2700.0    3.0   130.00\n",
       "3     4   40      1  Mon     17  12320.0    6.4   365.00\n",
       "4     5   50      1  Thu    610   2117.0   10.8   357.50\n",
       "5     0   03      1  Tue    483   1899.0   13.6   550.00\n",
       "6     0   09      1  Mon    214   1000.0    3.0   210.00\n",
       "7     7   74      1  Wed    452    330.0    3.0   366.67\n",
       "8     8   89      1  Tue    130   8000.0    4.5   193.33\n",
       "9     1   17      4  Fri   1004   3135.0   13.2  1400.00\n",
       "10    3   34      1  Wed    374  24406.0   13.6   510.00\n",
       "11    3   30      1  Thu    440   7685.0   13.6   400.00\n",
       "12    2   21      1  Wed    659  18000.0   13.6   800.00\n",
       "13    5   50      1  Tue    292   3037.0    6.0   400.00\n",
       "14    5   59      1  Wed    733  22410.0   13.6  2200.00\n",
       "15    3   30      0  Wed    269   3530.0   13.6   360.00\n",
       "16    9   99      3  Fri     55    900.0    2.7   180.00\n",
       "17    5   59      1  Tue    473   5000.0    5.0   380.00\n",
       "18    3   30      1  Tue    269  15000.0   13.6   360.00\n",
       "19    2   28      1  Mon    384   4750.0    6.8   250.00"
      ]
     },
     "execution_count": 5,
     "metadata": {},
     "output_type": "execute_result"
    }
   ],
   "source": [
    "df_orig.head(20)"
   ]
  },
  {
   "cell_type": "code",
   "execution_count": 6,
   "metadata": {},
   "outputs": [
    {
     "data": {
      "text/plain": [
       "(10000, 8)"
      ]
     },
     "execution_count": 6,
     "metadata": {},
     "output_type": "execute_result"
    }
   ],
   "source": [
    "df_orig.shape"
   ]
  },
  {
   "cell_type": "code",
   "execution_count": 7,
   "metadata": {},
   "outputs": [
    {
     "name": "stdout",
     "output_type": "stream",
     "text": [
      "<class 'pandas.core.frame.DataFrame'>\n",
      "RangeIndex: 10000 entries, 0 to 9999\n",
      "Data columns (total 8 columns):\n",
      "loc1     10000 non-null object\n",
      "loc2     10000 non-null object\n",
      "para1    10000 non-null int64\n",
      "dow      10000 non-null object\n",
      "para2    10000 non-null int64\n",
      "para3    10000 non-null float64\n",
      "para4    10000 non-null float64\n",
      "price    10000 non-null float64\n",
      "dtypes: float64(3), int64(2), object(3)\n",
      "memory usage: 625.1+ KB\n"
     ]
    }
   ],
   "source": [
    "df_orig.info()"
   ]
  },
  {
   "cell_type": "code",
   "execution_count": 8,
   "metadata": {
    "collapsed": true
   },
   "outputs": [],
   "source": [
    "# Make a copy to manipulate\n",
    "df = df_orig.copy()"
   ]
  },
  {
   "cell_type": "code",
   "execution_count": 9,
   "metadata": {},
   "outputs": [
    {
     "data": {
      "text/html": [
       "<div>\n",
       "<style>\n",
       "    .dataframe thead tr:only-child th {\n",
       "        text-align: right;\n",
       "    }\n",
       "\n",
       "    .dataframe thead th {\n",
       "        text-align: left;\n",
       "    }\n",
       "\n",
       "    .dataframe tbody tr th {\n",
       "        vertical-align: top;\n",
       "    }\n",
       "</style>\n",
       "<table border=\"1\" class=\"dataframe\">\n",
       "  <thead>\n",
       "    <tr style=\"text-align: right;\">\n",
       "      <th></th>\n",
       "      <th>loc1</th>\n",
       "      <th>loc2</th>\n",
       "      <th>para1</th>\n",
       "      <th>dow</th>\n",
       "      <th>para2</th>\n",
       "      <th>para3</th>\n",
       "      <th>para4</th>\n",
       "      <th>price</th>\n",
       "    </tr>\n",
       "  </thead>\n",
       "  <tbody>\n",
       "    <tr>\n",
       "      <th>0</th>\n",
       "      <td>0</td>\n",
       "      <td>01</td>\n",
       "      <td>1</td>\n",
       "      <td>Mon</td>\n",
       "      <td>662</td>\n",
       "      <td>3000.0</td>\n",
       "      <td>3.8</td>\n",
       "      <td>73.49</td>\n",
       "    </tr>\n",
       "    <tr>\n",
       "      <th>1</th>\n",
       "      <td>9</td>\n",
       "      <td>99</td>\n",
       "      <td>1</td>\n",
       "      <td>Thu</td>\n",
       "      <td>340</td>\n",
       "      <td>2760.0</td>\n",
       "      <td>9.2</td>\n",
       "      <td>300.00</td>\n",
       "    </tr>\n",
       "    <tr>\n",
       "      <th>2</th>\n",
       "      <td>0</td>\n",
       "      <td>04</td>\n",
       "      <td>0</td>\n",
       "      <td>Mon</td>\n",
       "      <td>16</td>\n",
       "      <td>2700.0</td>\n",
       "      <td>3.0</td>\n",
       "      <td>130.00</td>\n",
       "    </tr>\n",
       "    <tr>\n",
       "      <th>3</th>\n",
       "      <td>4</td>\n",
       "      <td>40</td>\n",
       "      <td>1</td>\n",
       "      <td>Mon</td>\n",
       "      <td>17</td>\n",
       "      <td>12320.0</td>\n",
       "      <td>6.4</td>\n",
       "      <td>365.00</td>\n",
       "    </tr>\n",
       "    <tr>\n",
       "      <th>4</th>\n",
       "      <td>5</td>\n",
       "      <td>50</td>\n",
       "      <td>1</td>\n",
       "      <td>Thu</td>\n",
       "      <td>610</td>\n",
       "      <td>2117.0</td>\n",
       "      <td>10.8</td>\n",
       "      <td>357.50</td>\n",
       "    </tr>\n",
       "  </tbody>\n",
       "</table>\n",
       "</div>"
      ],
      "text/plain": [
       "  loc1 loc2  para1  dow  para2    para3  para4   price\n",
       "0    0   01      1  Mon    662   3000.0    3.8   73.49\n",
       "1    9   99      1  Thu    340   2760.0    9.2  300.00\n",
       "2    0   04      0  Mon     16   2700.0    3.0  130.00\n",
       "3    4   40      1  Mon     17  12320.0    6.4  365.00\n",
       "4    5   50      1  Thu    610   2117.0   10.8  357.50"
      ]
     },
     "execution_count": 9,
     "metadata": {},
     "output_type": "execute_result"
    }
   ],
   "source": [
    "df.head()"
   ]
  },
  {
   "cell_type": "markdown",
   "metadata": {},
   "source": [
    "## EDA"
   ]
  },
  {
   "cell_type": "markdown",
   "metadata": {},
   "source": [
    "### Histograms"
   ]
  },
  {
   "cell_type": "code",
   "execution_count": 10,
   "metadata": {},
   "outputs": [
    {
     "data": {
      "text/plain": [
       "<matplotlib.axes._subplots.AxesSubplot at 0x108bd6c50>"
      ]
     },
     "execution_count": 10,
     "metadata": {},
     "output_type": "execute_result"
    },
    {
     "data": {
      "image/png": "[encoded data removed]",
      "text/plain": [
       "<matplotlib.figure.Figure at 0x1138099b0>"
      ]
     },
     "metadata": {},
     "output_type": "display_data"
    }
   ],
   "source": [
    "df.price.hist()"
   ]
  },
  {
   "cell_type": "code",
   "execution_count": 11,
   "metadata": {},
   "outputs": [
    {
     "data": {
      "text/plain": [
       "<matplotlib.axes._subplots.AxesSubplot at 0x107c2f3c8>"
      ]
     },
     "execution_count": 11,
     "metadata": {},
     "output_type": "execute_result"
    },
    {
     "data": {
      "image/png": "[encoded data removed]",
      "text/plain": [
       "<matplotlib.figure.Figure at 0x1141b4c18>"
      ]
     },
     "metadata": {},
     "output_type": "display_data"
    }
   ],
   "source": [
    "# Distribution is skewed left - try taking the log and see what happens\n",
    "df['logprice'] = np.log(df.price)\n",
    "df.logprice.hist()"
   ]
  },
  {
   "cell_type": "code",
   "execution_count": 89,
   "metadata": {},
   "outputs": [
    {
     "data": {
      "text/plain": [
       "<matplotlib.axes._subplots.AxesSubplot at 0x1192a67b8>"
      ]
     },
     "execution_count": 89,
     "metadata": {},
     "output_type": "execute_result"
    },
    {
     "data": {
      "image/png": "[encoded data removed]",
      "text/plain": [
       "<matplotlib.figure.Figure at 0x1196724a8>"
      ]
     },
     "metadata": {},
     "output_type": "display_data"
    }
   ],
   "source": [
    "df.para1.hist()"
   ]
  },
  {
   "cell_type": "code",
   "execution_count": 13,
   "metadata": {},
   "outputs": [
    {
     "data": {
      "text/plain": [
       "1      7052\n",
       "3      1613\n",
       "0       836\n",
       "2       268\n",
       "4       164\n",
       "5        51\n",
       "6         6\n",
       "7         3\n",
       "13        2\n",
       "9         2\n",
       "337       1\n",
       "24        1\n",
       "8         1\n",
       "Name: para1, dtype: int64"
      ]
     },
     "execution_count": 13,
     "metadata": {},
     "output_type": "execute_result"
    }
   ],
   "source": [
    "# There seems to be one outlier with para1 - maybe ignore?\n",
    "df.para1.value_counts()"
   ]
  },
  {
   "cell_type": "code",
   "execution_count": 91,
   "metadata": {},
   "outputs": [
    {
     "data": {
      "text/plain": [
       "<matplotlib.axes._subplots.AxesSubplot at 0x1194e7ac8>"
      ]
     },
     "execution_count": 91,
     "metadata": {},
     "output_type": "execute_result"
    },
    {
     "data": {
      "image/png": "[encoded data removed]",
      "text/plain": [
       "<matplotlib.figure.Figure at 0x118cb9fd0>"
      ]
     },
     "metadata": {},
     "output_type": "display_data"
    }
   ],
   "source": [
    "(df.para2).hist()"
   ]
  },
  {
   "cell_type": "code",
   "execution_count": 90,
   "metadata": {},
   "outputs": [
    {
     "data": {
      "text/plain": [
       "<matplotlib.axes._subplots.AxesSubplot at 0x117658c18>"
      ]
     },
     "execution_count": 90,
     "metadata": {},
     "output_type": "execute_result"
    },
    {
     "data": {
      "image/png": "[encoded data removed]",
      "text/plain": [
       "<matplotlib.figure.Figure at 0x1194f6128>"
      ]
     },
     "metadata": {},
     "output_type": "display_data"
    }
   ],
   "source": [
    "df['para2_sqrt'] = np.sqrt(df.para2)\n",
    "df.para2_sqrt.hist()"
   ]
  },
  {
   "cell_type": "code",
   "execution_count": 34,
   "metadata": {},
   "outputs": [
    {
     "data": {
      "text/plain": [
       "<matplotlib.axes._subplots.AxesSubplot at 0x115afedd8>"
      ]
     },
     "execution_count": 34,
     "metadata": {},
     "output_type": "execute_result"
    },
    {
     "data": {
      "image/png": "[encoded data removed]",
      "text/plain": [
       "<matplotlib.figure.Figure at 0x1160ca4e0>"
      ]
     },
     "metadata": {},
     "output_type": "display_data"
    }
   ],
   "source": [
    "(df.para3).hist()"
   ]
  },
  {
   "cell_type": "code",
   "execution_count": 92,
   "metadata": {},
   "outputs": [
    {
     "data": {
      "text/plain": [
       "<matplotlib.axes._subplots.AxesSubplot at 0x119677b70>"
      ]
     },
     "execution_count": 92,
     "metadata": {},
     "output_type": "execute_result"
    },
    {
     "data": {
      "image/png": "[encoded data removed]",
      "text/plain": [
       "<matplotlib.figure.Figure at 0x119a2cdd8>"
      ]
     },
     "metadata": {},
     "output_type": "display_data"
    }
   ],
   "source": [
    "df['para3_sqrt'] = np.sqrt(df.para3)\n",
    "df.para3_sqrt.hist()"
   ]
  },
  {
   "cell_type": "code",
   "execution_count": 36,
   "metadata": {},
   "outputs": [
    {
     "data": {
      "text/plain": [
       "<matplotlib.axes._subplots.AxesSubplot at 0x115670518>"
      ]
     },
     "execution_count": 36,
     "metadata": {},
     "output_type": "execute_result"
    },
    {
     "data": {
      "image/png": "[encoded data removed]",
      "text/plain": [
       "<matplotlib.figure.Figure at 0x11624a940>"
      ]
     },
     "metadata": {},
     "output_type": "display_data"
    }
   ],
   "source": [
    "(df.para4).hist()"
   ]
  },
  {
   "cell_type": "code",
   "execution_count": 37,
   "metadata": {},
   "outputs": [
    {
     "data": {
      "text/plain": [
       "['0', '1', '2', '3', '4', '5', '6', '7', '8', '9', 'S', 'T']"
      ]
     },
     "execution_count": 37,
     "metadata": {},
     "output_type": "execute_result"
    }
   ],
   "source": [
    "loc1_sorted = sorted(df['loc1'].unique())\n",
    "loc1_sorted"
   ]
  },
  {
   "cell_type": "code",
   "execution_count": 38,
   "metadata": {
    "scrolled": true
   },
   "outputs": [
    {
     "data": {
      "text/plain": [
       "['00',\n",
       " '01',\n",
       " '02',\n",
       " '03',\n",
       " '04',\n",
       " '05',\n",
       " '06',\n",
       " '07',\n",
       " '08',\n",
       " '09',\n",
       " '0B',\n",
       " '0C',\n",
       " '0L',\n",
       " '0N',\n",
       " '0T',\n",
       " '10',\n",
       " '11',\n",
       " '12',\n",
       " '13',\n",
       " '14',\n",
       " '15',\n",
       " '16',\n",
       " '17',\n",
       " '18',\n",
       " '19',\n",
       " '20',\n",
       " '21',\n",
       " '22',\n",
       " '23',\n",
       " '24',\n",
       " '25',\n",
       " '26',\n",
       " '27',\n",
       " '28',\n",
       " '29',\n",
       " '30',\n",
       " '31',\n",
       " '32',\n",
       " '33',\n",
       " '34',\n",
       " '35',\n",
       " '36',\n",
       " '37',\n",
       " '38',\n",
       " '39',\n",
       " '40',\n",
       " '41',\n",
       " '42',\n",
       " '43',\n",
       " '44',\n",
       " '45',\n",
       " '46',\n",
       " '47',\n",
       " '48',\n",
       " '49',\n",
       " '50',\n",
       " '51',\n",
       " '52',\n",
       " '53',\n",
       " '54',\n",
       " '55',\n",
       " '56',\n",
       " '57',\n",
       " '58',\n",
       " '59',\n",
       " '60',\n",
       " '61',\n",
       " '62',\n",
       " '63',\n",
       " '64',\n",
       " '65',\n",
       " '66',\n",
       " '67',\n",
       " '68',\n",
       " '69',\n",
       " '70',\n",
       " '71',\n",
       " '72',\n",
       " '73',\n",
       " '74',\n",
       " '75',\n",
       " '76',\n",
       " '77',\n",
       " '78',\n",
       " '79',\n",
       " '80',\n",
       " '81',\n",
       " '82',\n",
       " '83',\n",
       " '84',\n",
       " '85',\n",
       " '86',\n",
       " '87',\n",
       " '88',\n",
       " '89',\n",
       " '90',\n",
       " '91',\n",
       " '92',\n",
       " '93',\n",
       " '94',\n",
       " '95',\n",
       " '96',\n",
       " '97',\n",
       " '98',\n",
       " '99',\n",
       " 'S6',\n",
       " 'TS']"
      ]
     },
     "execution_count": 38,
     "metadata": {},
     "output_type": "execute_result"
    }
   ],
   "source": [
    "loc2_sorted = (sorted(df['loc2'].unique())) # 107 items\n",
    "loc2_sorted"
   ]
  },
  {
   "cell_type": "code",
   "execution_count": 39,
   "metadata": {},
   "outputs": [
    {
     "data": {
      "text/plain": [
       "[0, 1, 2, 3, 4, 5, 6, 7, 8, 9, 13, 24, 337]"
      ]
     },
     "execution_count": 39,
     "metadata": {},
     "output_type": "execute_result"
    }
   ],
   "source": [
    "sorted(df['para1'].unique())"
   ]
  },
  {
   "cell_type": "code",
   "execution_count": 40,
   "metadata": {},
   "outputs": [
    {
     "data": {
      "text/plain": [
       "1016"
      ]
     },
     "execution_count": 40,
     "metadata": {},
     "output_type": "execute_result"
    }
   ],
   "source": [
    "len(df.para2.unique())"
   ]
  },
  {
   "cell_type": "code",
   "execution_count": 41,
   "metadata": {},
   "outputs": [
    {
     "data": {
      "text/plain": [
       "4359"
      ]
     },
     "execution_count": 41,
     "metadata": {},
     "output_type": "execute_result"
    }
   ],
   "source": [
    "len(df.para3.unique())"
   ]
  },
  {
   "cell_type": "code",
   "execution_count": 42,
   "metadata": {},
   "outputs": [
    {
     "data": {
      "text/plain": [
       "243"
      ]
     },
     "execution_count": 42,
     "metadata": {},
     "output_type": "execute_result"
    }
   ],
   "source": [
    "len(df.para4.unique())"
   ]
  },
  {
   "cell_type": "code",
   "execution_count": 43,
   "metadata": {},
   "outputs": [
    {
     "data": {
      "text/plain": [
       "array(['Mon', 'Thu', 'Tue', 'Wed', 'Fri', 'Sat', 'Sun'], dtype=object)"
      ]
     },
     "execution_count": 43,
     "metadata": {},
     "output_type": "execute_result"
    }
   ],
   "source": [
    "(df['dow'].unique())"
   ]
  },
  {
   "cell_type": "markdown",
   "metadata": {},
   "source": [
    "### Create categorical and ordinal variables for DOW and loc1 and loc2"
   ]
  },
  {
   "cell_type": "code",
   "execution_count": 44,
   "metadata": {},
   "outputs": [
    {
     "data": {
      "text/html": [
       "<div>\n",
       "<style>\n",
       "    .dataframe thead tr:only-child th {\n",
       "        text-align: right;\n",
       "    }\n",
       "\n",
       "    .dataframe thead th {\n",
       "        text-align: left;\n",
       "    }\n",
       "\n",
       "    .dataframe tbody tr th {\n",
       "        vertical-align: top;\n",
       "    }\n",
       "</style>\n",
       "<table border=\"1\" class=\"dataframe\">\n",
       "  <thead>\n",
       "    <tr style=\"text-align: right;\">\n",
       "      <th></th>\n",
       "      <th>loc1</th>\n",
       "      <th>loc2</th>\n",
       "      <th>para1</th>\n",
       "      <th>dow</th>\n",
       "      <th>para2</th>\n",
       "      <th>para3</th>\n",
       "      <th>para4</th>\n",
       "      <th>price</th>\n",
       "      <th>logprice</th>\n",
       "      <th>dow_ord</th>\n",
       "    </tr>\n",
       "  </thead>\n",
       "  <tbody>\n",
       "    <tr>\n",
       "      <th>0</th>\n",
       "      <td>0</td>\n",
       "      <td>01</td>\n",
       "      <td>1</td>\n",
       "      <td>Mon</td>\n",
       "      <td>662</td>\n",
       "      <td>3000.0</td>\n",
       "      <td>3.8</td>\n",
       "      <td>73.49</td>\n",
       "      <td>4.297149</td>\n",
       "      <td>Mon</td>\n",
       "    </tr>\n",
       "    <tr>\n",
       "      <th>1</th>\n",
       "      <td>9</td>\n",
       "      <td>99</td>\n",
       "      <td>1</td>\n",
       "      <td>Thu</td>\n",
       "      <td>340</td>\n",
       "      <td>2760.0</td>\n",
       "      <td>9.2</td>\n",
       "      <td>300.00</td>\n",
       "      <td>5.703782</td>\n",
       "      <td>Thu</td>\n",
       "    </tr>\n",
       "    <tr>\n",
       "      <th>2</th>\n",
       "      <td>0</td>\n",
       "      <td>04</td>\n",
       "      <td>0</td>\n",
       "      <td>Mon</td>\n",
       "      <td>16</td>\n",
       "      <td>2700.0</td>\n",
       "      <td>3.0</td>\n",
       "      <td>130.00</td>\n",
       "      <td>4.867534</td>\n",
       "      <td>Mon</td>\n",
       "    </tr>\n",
       "    <tr>\n",
       "      <th>3</th>\n",
       "      <td>4</td>\n",
       "      <td>40</td>\n",
       "      <td>1</td>\n",
       "      <td>Mon</td>\n",
       "      <td>17</td>\n",
       "      <td>12320.0</td>\n",
       "      <td>6.4</td>\n",
       "      <td>365.00</td>\n",
       "      <td>5.899897</td>\n",
       "      <td>Mon</td>\n",
       "    </tr>\n",
       "    <tr>\n",
       "      <th>4</th>\n",
       "      <td>5</td>\n",
       "      <td>50</td>\n",
       "      <td>1</td>\n",
       "      <td>Thu</td>\n",
       "      <td>610</td>\n",
       "      <td>2117.0</td>\n",
       "      <td>10.8</td>\n",
       "      <td>357.50</td>\n",
       "      <td>5.879135</td>\n",
       "      <td>Thu</td>\n",
       "    </tr>\n",
       "  </tbody>\n",
       "</table>\n",
       "</div>"
      ],
      "text/plain": [
       "  loc1 loc2  para1  dow  para2    para3  para4   price  logprice dow_ord\n",
       "0    0   01      1  Mon    662   3000.0    3.8   73.49  4.297149     Mon\n",
       "1    9   99      1  Thu    340   2760.0    9.2  300.00  5.703782     Thu\n",
       "2    0   04      0  Mon     16   2700.0    3.0  130.00  4.867534     Mon\n",
       "3    4   40      1  Mon     17  12320.0    6.4  365.00  5.899897     Mon\n",
       "4    5   50      1  Thu    610   2117.0   10.8  357.50  5.879135     Thu"
      ]
     },
     "execution_count": 44,
     "metadata": {},
     "output_type": "execute_result"
    }
   ],
   "source": [
    "# Convert Days of Week to Ordinal Variable\n",
    "\n",
    "df['dow_ord'] = df.dow # new column for ordinal days of week\n",
    "df.head()"
   ]
  },
  {
   "cell_type": "code",
   "execution_count": 45,
   "metadata": {},
   "outputs": [
    {
     "name": "stdout",
     "output_type": "stream",
     "text": [
      "<class 'pandas.core.frame.DataFrame'>\n",
      "RangeIndex: 10000 entries, 0 to 9999\n",
      "Data columns (total 10 columns):\n",
      "loc1        10000 non-null object\n",
      "loc2        10000 non-null object\n",
      "para1       10000 non-null int64\n",
      "dow         10000 non-null object\n",
      "para2       10000 non-null int64\n",
      "para3       10000 non-null float64\n",
      "para4       10000 non-null float64\n",
      "price       10000 non-null float64\n",
      "logprice    10000 non-null float64\n",
      "dow_ord     10000 non-null int8\n",
      "dtypes: float64(4), int64(2), int8(1), object(3)\n",
      "memory usage: 713.0+ KB\n"
     ]
    }
   ],
   "source": [
    "df.dow_ord = df.dow_ord.astype('category')\n",
    "df.dow_ord = df.dow_ord.cat.reorder_categories(['Mon', 'Tue', 'Wed','Thu','Fri','Sat','Sun'], ordered=True)\n",
    "df.dow_ord = df.dow_ord.cat.codes\n",
    "\n",
    "df.info()"
   ]
  },
  {
   "cell_type": "code",
   "execution_count": 46,
   "metadata": {},
   "outputs": [
    {
     "data": {
      "text/html": [
       "<div>\n",
       "<style>\n",
       "    .dataframe thead tr:only-child th {\n",
       "        text-align: right;\n",
       "    }\n",
       "\n",
       "    .dataframe thead th {\n",
       "        text-align: left;\n",
       "    }\n",
       "\n",
       "    .dataframe tbody tr th {\n",
       "        vertical-align: top;\n",
       "    }\n",
       "</style>\n",
       "<table border=\"1\" class=\"dataframe\">\n",
       "  <thead>\n",
       "    <tr style=\"text-align: right;\">\n",
       "      <th></th>\n",
       "      <th>Intercept</th>\n",
       "      <th>dow[T.Mon]</th>\n",
       "      <th>dow[T.Sat]</th>\n",
       "      <th>dow[T.Sun]</th>\n",
       "      <th>dow[T.Thu]</th>\n",
       "      <th>dow[T.Tue]</th>\n",
       "      <th>dow[T.Wed]</th>\n",
       "    </tr>\n",
       "  </thead>\n",
       "  <tbody>\n",
       "    <tr>\n",
       "      <th>0</th>\n",
       "      <td>1.0</td>\n",
       "      <td>1.0</td>\n",
       "      <td>0.0</td>\n",
       "      <td>0.0</td>\n",
       "      <td>0.0</td>\n",
       "      <td>0.0</td>\n",
       "      <td>0.0</td>\n",
       "    </tr>\n",
       "    <tr>\n",
       "      <th>1</th>\n",
       "      <td>1.0</td>\n",
       "      <td>0.0</td>\n",
       "      <td>0.0</td>\n",
       "      <td>0.0</td>\n",
       "      <td>1.0</td>\n",
       "      <td>0.0</td>\n",
       "      <td>0.0</td>\n",
       "    </tr>\n",
       "    <tr>\n",
       "      <th>2</th>\n",
       "      <td>1.0</td>\n",
       "      <td>1.0</td>\n",
       "      <td>0.0</td>\n",
       "      <td>0.0</td>\n",
       "      <td>0.0</td>\n",
       "      <td>0.0</td>\n",
       "      <td>0.0</td>\n",
       "    </tr>\n",
       "    <tr>\n",
       "      <th>3</th>\n",
       "      <td>1.0</td>\n",
       "      <td>1.0</td>\n",
       "      <td>0.0</td>\n",
       "      <td>0.0</td>\n",
       "      <td>0.0</td>\n",
       "      <td>0.0</td>\n",
       "      <td>0.0</td>\n",
       "    </tr>\n",
       "    <tr>\n",
       "      <th>4</th>\n",
       "      <td>1.0</td>\n",
       "      <td>0.0</td>\n",
       "      <td>0.0</td>\n",
       "      <td>0.0</td>\n",
       "      <td>1.0</td>\n",
       "      <td>0.0</td>\n",
       "      <td>0.0</td>\n",
       "    </tr>\n",
       "  </tbody>\n",
       "</table>\n",
       "</div>"
      ],
      "text/plain": [
       "   Intercept  dow[T.Mon]  dow[T.Sat]  dow[T.Sun]  dow[T.Thu]  dow[T.Tue]  \\\n",
       "0        1.0         1.0         0.0         0.0         0.0         0.0   \n",
       "1        1.0         0.0         0.0         0.0         1.0         0.0   \n",
       "2        1.0         1.0         0.0         0.0         0.0         0.0   \n",
       "3        1.0         1.0         0.0         0.0         0.0         0.0   \n",
       "4        1.0         0.0         0.0         0.0         1.0         0.0   \n",
       "\n",
       "   dow[T.Wed]  \n",
       "0         0.0  \n",
       "1         0.0  \n",
       "2         0.0  \n",
       "3         0.0  \n",
       "4         0.0  "
      ]
     },
     "execution_count": 46,
     "metadata": {},
     "output_type": "execute_result"
    }
   ],
   "source": [
    "# Convert Days of Week to Categorical Variables\n",
    "dow_cat = patsy.dmatrix('dow',data=df,return_type='dataframe')\n",
    "dow_cat.head()"
   ]
  },
  {
   "cell_type": "code",
   "execution_count": 47,
   "metadata": {},
   "outputs": [
    {
     "name": "stdout",
     "output_type": "stream",
     "text": [
      "<class 'pandas.core.frame.DataFrame'>\n",
      "RangeIndex: 10000 entries, 0 to 9999\n",
      "Data columns (total 12 columns):\n",
      "loc1        10000 non-null object\n",
      "loc2        10000 non-null object\n",
      "para1       10000 non-null int64\n",
      "dow         10000 non-null object\n",
      "para2       10000 non-null int64\n",
      "para3       10000 non-null float64\n",
      "para4       10000 non-null float64\n",
      "price       10000 non-null float64\n",
      "logprice    10000 non-null float64\n",
      "dow_ord     10000 non-null int8\n",
      "loc1_ord    10000 non-null int8\n",
      "loc2_ord    10000 non-null int8\n",
      "dtypes: float64(4), int64(2), int8(3), object(3)\n",
      "memory usage: 732.5+ KB\n"
     ]
    }
   ],
   "source": [
    "# Convert loc1 and loc2 to ordinal varibles\n",
    "df['loc1_ord'] = df.loc1\n",
    "df['loc2_ord'] = df.loc2\n",
    "\n",
    "df.loc1_ord = df.loc1_ord.astype('category')\n",
    "df.loc1_ord = df.loc1_ord.cat.reorder_categories(loc1_sorted, ordered=True)\n",
    "df.loc1_ord = df.loc1_ord.cat.codes\n",
    "\n",
    "df.loc2_ord = df.loc2_ord.astype('category')\n",
    "df.loc2_ord = df.loc2_ord.cat.reorder_categories(loc2_sorted, ordered=True)\n",
    "df.loc2_ord = df.loc2_ord.cat.codes\n",
    "\n",
    "df.info()"
   ]
  },
  {
   "cell_type": "code",
   "execution_count": 48,
   "metadata": {},
   "outputs": [
    {
     "data": {
      "text/html": [
       "<div>\n",
       "<style>\n",
       "    .dataframe thead tr:only-child th {\n",
       "        text-align: right;\n",
       "    }\n",
       "\n",
       "    .dataframe thead th {\n",
       "        text-align: left;\n",
       "    }\n",
       "\n",
       "    .dataframe tbody tr th {\n",
       "        vertical-align: top;\n",
       "    }\n",
       "</style>\n",
       "<table border=\"1\" class=\"dataframe\">\n",
       "  <thead>\n",
       "    <tr style=\"text-align: right;\">\n",
       "      <th></th>\n",
       "      <th>Intercept</th>\n",
       "      <th>loc1[T.1]</th>\n",
       "      <th>loc1[T.2]</th>\n",
       "      <th>loc1[T.3]</th>\n",
       "      <th>loc1[T.4]</th>\n",
       "      <th>loc1[T.5]</th>\n",
       "      <th>loc1[T.6]</th>\n",
       "      <th>loc1[T.7]</th>\n",
       "      <th>loc1[T.8]</th>\n",
       "      <th>loc1[T.9]</th>\n",
       "      <th>loc1[T.S]</th>\n",
       "      <th>loc1[T.T]</th>\n",
       "    </tr>\n",
       "  </thead>\n",
       "  <tbody>\n",
       "    <tr>\n",
       "      <th>0</th>\n",
       "      <td>1.0</td>\n",
       "      <td>0.0</td>\n",
       "      <td>0.0</td>\n",
       "      <td>0.0</td>\n",
       "      <td>0.0</td>\n",
       "      <td>0.0</td>\n",
       "      <td>0.0</td>\n",
       "      <td>0.0</td>\n",
       "      <td>0.0</td>\n",
       "      <td>0.0</td>\n",
       "      <td>0.0</td>\n",
       "      <td>0.0</td>\n",
       "    </tr>\n",
       "    <tr>\n",
       "      <th>1</th>\n",
       "      <td>1.0</td>\n",
       "      <td>0.0</td>\n",
       "      <td>0.0</td>\n",
       "      <td>0.0</td>\n",
       "      <td>0.0</td>\n",
       "      <td>0.0</td>\n",
       "      <td>0.0</td>\n",
       "      <td>0.0</td>\n",
       "      <td>0.0</td>\n",
       "      <td>1.0</td>\n",
       "      <td>0.0</td>\n",
       "      <td>0.0</td>\n",
       "    </tr>\n",
       "    <tr>\n",
       "      <th>2</th>\n",
       "      <td>1.0</td>\n",
       "      <td>0.0</td>\n",
       "      <td>0.0</td>\n",
       "      <td>0.0</td>\n",
       "      <td>0.0</td>\n",
       "      <td>0.0</td>\n",
       "      <td>0.0</td>\n",
       "      <td>0.0</td>\n",
       "      <td>0.0</td>\n",
       "      <td>0.0</td>\n",
       "      <td>0.0</td>\n",
       "      <td>0.0</td>\n",
       "    </tr>\n",
       "    <tr>\n",
       "      <th>3</th>\n",
       "      <td>1.0</td>\n",
       "      <td>0.0</td>\n",
       "      <td>0.0</td>\n",
       "      <td>0.0</td>\n",
       "      <td>1.0</td>\n",
       "      <td>0.0</td>\n",
       "      <td>0.0</td>\n",
       "      <td>0.0</td>\n",
       "      <td>0.0</td>\n",
       "      <td>0.0</td>\n",
       "      <td>0.0</td>\n",
       "      <td>0.0</td>\n",
       "    </tr>\n",
       "    <tr>\n",
       "      <th>4</th>\n",
       "      <td>1.0</td>\n",
       "      <td>0.0</td>\n",
       "      <td>0.0</td>\n",
       "      <td>0.0</td>\n",
       "      <td>0.0</td>\n",
       "      <td>1.0</td>\n",
       "      <td>0.0</td>\n",
       "      <td>0.0</td>\n",
       "      <td>0.0</td>\n",
       "      <td>0.0</td>\n",
       "      <td>0.0</td>\n",
       "      <td>0.0</td>\n",
       "    </tr>\n",
       "  </tbody>\n",
       "</table>\n",
       "</div>"
      ],
      "text/plain": [
       "   Intercept  loc1[T.1]  loc1[T.2]  loc1[T.3]  loc1[T.4]  loc1[T.5]  \\\n",
       "0        1.0        0.0        0.0        0.0        0.0        0.0   \n",
       "1        1.0        0.0        0.0        0.0        0.0        0.0   \n",
       "2        1.0        0.0        0.0        0.0        0.0        0.0   \n",
       "3        1.0        0.0        0.0        0.0        1.0        0.0   \n",
       "4        1.0        0.0        0.0        0.0        0.0        1.0   \n",
       "\n",
       "   loc1[T.6]  loc1[T.7]  loc1[T.8]  loc1[T.9]  loc1[T.S]  loc1[T.T]  \n",
       "0        0.0        0.0        0.0        0.0        0.0        0.0  \n",
       "1        0.0        0.0        0.0        1.0        0.0        0.0  \n",
       "2        0.0        0.0        0.0        0.0        0.0        0.0  \n",
       "3        0.0        0.0        0.0        0.0        0.0        0.0  \n",
       "4        0.0        0.0        0.0        0.0        0.0        0.0  "
      ]
     },
     "execution_count": 48,
     "metadata": {},
     "output_type": "execute_result"
    }
   ],
   "source": [
    "# Convert loc1 and loc2 to categorical variables\n",
    "loc1_cat = patsy.dmatrix('loc1',data=df,return_type='dataframe')\n",
    "loc1_cat.head()"
   ]
  },
  {
   "cell_type": "code",
   "execution_count": 49,
   "metadata": {},
   "outputs": [
    {
     "data": {
      "text/html": [
       "<div>\n",
       "<style>\n",
       "    .dataframe thead tr:only-child th {\n",
       "        text-align: right;\n",
       "    }\n",
       "\n",
       "    .dataframe thead th {\n",
       "        text-align: left;\n",
       "    }\n",
       "\n",
       "    .dataframe tbody tr th {\n",
       "        vertical-align: top;\n",
       "    }\n",
       "</style>\n",
       "<table border=\"1\" class=\"dataframe\">\n",
       "  <thead>\n",
       "    <tr style=\"text-align: right;\">\n",
       "      <th></th>\n",
       "      <th>Intercept</th>\n",
       "      <th>loc2[T.01]</th>\n",
       "      <th>loc2[T.02]</th>\n",
       "      <th>loc2[T.03]</th>\n",
       "      <th>loc2[T.04]</th>\n",
       "      <th>loc2[T.05]</th>\n",
       "      <th>loc2[T.06]</th>\n",
       "      <th>loc2[T.07]</th>\n",
       "      <th>loc2[T.08]</th>\n",
       "      <th>loc2[T.09]</th>\n",
       "      <th>...</th>\n",
       "      <th>loc2[T.92]</th>\n",
       "      <th>loc2[T.93]</th>\n",
       "      <th>loc2[T.94]</th>\n",
       "      <th>loc2[T.95]</th>\n",
       "      <th>loc2[T.96]</th>\n",
       "      <th>loc2[T.97]</th>\n",
       "      <th>loc2[T.98]</th>\n",
       "      <th>loc2[T.99]</th>\n",
       "      <th>loc2[T.S6]</th>\n",
       "      <th>loc2[T.TS]</th>\n",
       "    </tr>\n",
       "  </thead>\n",
       "  <tbody>\n",
       "    <tr>\n",
       "      <th>0</th>\n",
       "      <td>1.0</td>\n",
       "      <td>1.0</td>\n",
       "      <td>0.0</td>\n",
       "      <td>0.0</td>\n",
       "      <td>0.0</td>\n",
       "      <td>0.0</td>\n",
       "      <td>0.0</td>\n",
       "      <td>0.0</td>\n",
       "      <td>0.0</td>\n",
       "      <td>0.0</td>\n",
       "      <td>...</td>\n",
       "      <td>0.0</td>\n",
       "      <td>0.0</td>\n",
       "      <td>0.0</td>\n",
       "      <td>0.0</td>\n",
       "      <td>0.0</td>\n",
       "      <td>0.0</td>\n",
       "      <td>0.0</td>\n",
       "      <td>0.0</td>\n",
       "      <td>0.0</td>\n",
       "      <td>0.0</td>\n",
       "    </tr>\n",
       "    <tr>\n",
       "      <th>1</th>\n",
       "      <td>1.0</td>\n",
       "      <td>0.0</td>\n",
       "      <td>0.0</td>\n",
       "      <td>0.0</td>\n",
       "      <td>0.0</td>\n",
       "      <td>0.0</td>\n",
       "      <td>0.0</td>\n",
       "      <td>0.0</td>\n",
       "      <td>0.0</td>\n",
       "      <td>0.0</td>\n",
       "      <td>...</td>\n",
       "      <td>0.0</td>\n",
       "      <td>0.0</td>\n",
       "      <td>0.0</td>\n",
       "      <td>0.0</td>\n",
       "      <td>0.0</td>\n",
       "      <td>0.0</td>\n",
       "      <td>0.0</td>\n",
       "      <td>1.0</td>\n",
       "      <td>0.0</td>\n",
       "      <td>0.0</td>\n",
       "    </tr>\n",
       "    <tr>\n",
       "      <th>2</th>\n",
       "      <td>1.0</td>\n",
       "      <td>0.0</td>\n",
       "      <td>0.0</td>\n",
       "      <td>0.0</td>\n",
       "      <td>1.0</td>\n",
       "      <td>0.0</td>\n",
       "      <td>0.0</td>\n",
       "      <td>0.0</td>\n",
       "      <td>0.0</td>\n",
       "      <td>0.0</td>\n",
       "      <td>...</td>\n",
       "      <td>0.0</td>\n",
       "      <td>0.0</td>\n",
       "      <td>0.0</td>\n",
       "      <td>0.0</td>\n",
       "      <td>0.0</td>\n",
       "      <td>0.0</td>\n",
       "      <td>0.0</td>\n",
       "      <td>0.0</td>\n",
       "      <td>0.0</td>\n",
       "      <td>0.0</td>\n",
       "    </tr>\n",
       "    <tr>\n",
       "      <th>3</th>\n",
       "      <td>1.0</td>\n",
       "      <td>0.0</td>\n",
       "      <td>0.0</td>\n",
       "      <td>0.0</td>\n",
       "      <td>0.0</td>\n",
       "      <td>0.0</td>\n",
       "      <td>0.0</td>\n",
       "      <td>0.0</td>\n",
       "      <td>0.0</td>\n",
       "      <td>0.0</td>\n",
       "      <td>...</td>\n",
       "      <td>0.0</td>\n",
       "      <td>0.0</td>\n",
       "      <td>0.0</td>\n",
       "      <td>0.0</td>\n",
       "      <td>0.0</td>\n",
       "      <td>0.0</td>\n",
       "      <td>0.0</td>\n",
       "      <td>0.0</td>\n",
       "      <td>0.0</td>\n",
       "      <td>0.0</td>\n",
       "    </tr>\n",
       "    <tr>\n",
       "      <th>4</th>\n",
       "      <td>1.0</td>\n",
       "      <td>0.0</td>\n",
       "      <td>0.0</td>\n",
       "      <td>0.0</td>\n",
       "      <td>0.0</td>\n",
       "      <td>0.0</td>\n",
       "      <td>0.0</td>\n",
       "      <td>0.0</td>\n",
       "      <td>0.0</td>\n",
       "      <td>0.0</td>\n",
       "      <td>...</td>\n",
       "      <td>0.0</td>\n",
       "      <td>0.0</td>\n",
       "      <td>0.0</td>\n",
       "      <td>0.0</td>\n",
       "      <td>0.0</td>\n",
       "      <td>0.0</td>\n",
       "      <td>0.0</td>\n",
       "      <td>0.0</td>\n",
       "      <td>0.0</td>\n",
       "      <td>0.0</td>\n",
       "    </tr>\n",
       "  </tbody>\n",
       "</table>\n",
       "<p>5 rows × 107 columns</p>\n",
       "</div>"
      ],
      "text/plain": [
       "   Intercept  loc2[T.01]  loc2[T.02]  loc2[T.03]  loc2[T.04]  loc2[T.05]  \\\n",
       "0        1.0         1.0         0.0         0.0         0.0         0.0   \n",
       "1        1.0         0.0         0.0         0.0         0.0         0.0   \n",
       "2        1.0         0.0         0.0         0.0         1.0         0.0   \n",
       "3        1.0         0.0         0.0         0.0         0.0         0.0   \n",
       "4        1.0         0.0         0.0         0.0         0.0         0.0   \n",
       "\n",
       "   loc2[T.06]  loc2[T.07]  loc2[T.08]  loc2[T.09]     ...      loc2[T.92]  \\\n",
       "0         0.0         0.0         0.0         0.0     ...             0.0   \n",
       "1         0.0         0.0         0.0         0.0     ...             0.0   \n",
       "2         0.0         0.0         0.0         0.0     ...             0.0   \n",
       "3         0.0         0.0         0.0         0.0     ...             0.0   \n",
       "4         0.0         0.0         0.0         0.0     ...             0.0   \n",
       "\n",
       "   loc2[T.93]  loc2[T.94]  loc2[T.95]  loc2[T.96]  loc2[T.97]  loc2[T.98]  \\\n",
       "0         0.0         0.0         0.0         0.0         0.0         0.0   \n",
       "1         0.0         0.0         0.0         0.0         0.0         0.0   \n",
       "2         0.0         0.0         0.0         0.0         0.0         0.0   \n",
       "3         0.0         0.0         0.0         0.0         0.0         0.0   \n",
       "4         0.0         0.0         0.0         0.0         0.0         0.0   \n",
       "\n",
       "   loc2[T.99]  loc2[T.S6]  loc2[T.TS]  \n",
       "0         0.0         0.0         0.0  \n",
       "1         1.0         0.0         0.0  \n",
       "2         0.0         0.0         0.0  \n",
       "3         0.0         0.0         0.0  \n",
       "4         0.0         0.0         0.0  \n",
       "\n",
       "[5 rows x 107 columns]"
      ]
     },
     "execution_count": 49,
     "metadata": {},
     "output_type": "execute_result"
    }
   ],
   "source": [
    "loc2_cat = patsy.dmatrix('loc2',data=df,return_type='dataframe')\n",
    "loc2_cat.head()"
   ]
  },
  {
   "cell_type": "code",
   "execution_count": null,
   "metadata": {
    "collapsed": true
   },
   "outputs": [],
   "source": []
  },
  {
   "cell_type": "markdown",
   "metadata": {},
   "source": [
    "### Check Correlations"
   ]
  },
  {
   "cell_type": "code",
   "execution_count": 93,
   "metadata": {},
   "outputs": [
    {
     "data": {
      "text/html": [
       "<div>\n",
       "<style>\n",
       "    .dataframe thead tr:only-child th {\n",
       "        text-align: right;\n",
       "    }\n",
       "\n",
       "    .dataframe thead th {\n",
       "        text-align: left;\n",
       "    }\n",
       "\n",
       "    .dataframe tbody tr th {\n",
       "        vertical-align: top;\n",
       "    }\n",
       "</style>\n",
       "<table border=\"1\" class=\"dataframe\">\n",
       "  <thead>\n",
       "    <tr style=\"text-align: right;\">\n",
       "      <th></th>\n",
       "      <th>para1</th>\n",
       "      <th>para2</th>\n",
       "      <th>para3</th>\n",
       "      <th>para4</th>\n",
       "      <th>price</th>\n",
       "      <th>logprice</th>\n",
       "      <th>dow_ord</th>\n",
       "      <th>loc1_ord</th>\n",
       "      <th>loc2_ord</th>\n",
       "      <th>para2_sqrt</th>\n",
       "      <th>para3_sqrt</th>\n",
       "    </tr>\n",
       "  </thead>\n",
       "  <tbody>\n",
       "    <tr>\n",
       "      <th>para1</th>\n",
       "      <td>1.000000</td>\n",
       "      <td>0.072025</td>\n",
       "      <td>0.010420</td>\n",
       "      <td>0.001663</td>\n",
       "      <td>0.074754</td>\n",
       "      <td>0.059204</td>\n",
       "      <td>0.129038</td>\n",
       "      <td>0.011520</td>\n",
       "      <td>0.011106</td>\n",
       "      <td>0.069168</td>\n",
       "      <td>0.007940</td>\n",
       "    </tr>\n",
       "    <tr>\n",
       "      <th>para2</th>\n",
       "      <td>0.072025</td>\n",
       "      <td>1.000000</td>\n",
       "      <td>0.006978</td>\n",
       "      <td>0.020806</td>\n",
       "      <td>0.552681</td>\n",
       "      <td>0.491363</td>\n",
       "      <td>0.003857</td>\n",
       "      <td>0.061850</td>\n",
       "      <td>0.058469</td>\n",
       "      <td>0.967793</td>\n",
       "      <td>0.015342</td>\n",
       "    </tr>\n",
       "    <tr>\n",
       "      <th>para3</th>\n",
       "      <td>0.010420</td>\n",
       "      <td>0.006978</td>\n",
       "      <td>1.000000</td>\n",
       "      <td>0.691237</td>\n",
       "      <td>0.355088</td>\n",
       "      <td>0.428493</td>\n",
       "      <td>-0.045833</td>\n",
       "      <td>-0.123508</td>\n",
       "      <td>-0.115762</td>\n",
       "      <td>-0.005654</td>\n",
       "      <td>0.981824</td>\n",
       "    </tr>\n",
       "    <tr>\n",
       "      <th>para4</th>\n",
       "      <td>0.001663</td>\n",
       "      <td>0.020806</td>\n",
       "      <td>0.691237</td>\n",
       "      <td>1.000000</td>\n",
       "      <td>0.514990</td>\n",
       "      <td>0.612797</td>\n",
       "      <td>-0.034891</td>\n",
       "      <td>-0.124780</td>\n",
       "      <td>-0.120444</td>\n",
       "      <td>0.004322</td>\n",
       "      <td>0.704942</td>\n",
       "    </tr>\n",
       "    <tr>\n",
       "      <th>price</th>\n",
       "      <td>0.074754</td>\n",
       "      <td>0.552681</td>\n",
       "      <td>0.355088</td>\n",
       "      <td>0.514990</td>\n",
       "      <td>1.000000</td>\n",
       "      <td>0.892028</td>\n",
       "      <td>-0.002249</td>\n",
       "      <td>-0.045341</td>\n",
       "      <td>-0.046813</td>\n",
       "      <td>0.467841</td>\n",
       "      <td>0.365845</td>\n",
       "    </tr>\n",
       "    <tr>\n",
       "      <th>logprice</th>\n",
       "      <td>0.059204</td>\n",
       "      <td>0.491363</td>\n",
       "      <td>0.428493</td>\n",
       "      <td>0.612797</td>\n",
       "      <td>0.892028</td>\n",
       "      <td>1.000000</td>\n",
       "      <td>-0.010095</td>\n",
       "      <td>-0.030491</td>\n",
       "      <td>-0.033708</td>\n",
       "      <td>0.459125</td>\n",
       "      <td>0.443501</td>\n",
       "    </tr>\n",
       "    <tr>\n",
       "      <th>dow_ord</th>\n",
       "      <td>0.129038</td>\n",
       "      <td>0.003857</td>\n",
       "      <td>-0.045833</td>\n",
       "      <td>-0.034891</td>\n",
       "      <td>-0.002249</td>\n",
       "      <td>-0.010095</td>\n",
       "      <td>1.000000</td>\n",
       "      <td>0.033301</td>\n",
       "      <td>0.035247</td>\n",
       "      <td>0.000855</td>\n",
       "      <td>-0.049500</td>\n",
       "    </tr>\n",
       "    <tr>\n",
       "      <th>loc1_ord</th>\n",
       "      <td>0.011520</td>\n",
       "      <td>0.061850</td>\n",
       "      <td>-0.123508</td>\n",
       "      <td>-0.124780</td>\n",
       "      <td>-0.045341</td>\n",
       "      <td>-0.030491</td>\n",
       "      <td>0.033301</td>\n",
       "      <td>1.000000</td>\n",
       "      <td>0.994976</td>\n",
       "      <td>0.078771</td>\n",
       "      <td>-0.125864</td>\n",
       "    </tr>\n",
       "    <tr>\n",
       "      <th>loc2_ord</th>\n",
       "      <td>0.011106</td>\n",
       "      <td>0.058469</td>\n",
       "      <td>-0.115762</td>\n",
       "      <td>-0.120444</td>\n",
       "      <td>-0.046813</td>\n",
       "      <td>-0.033708</td>\n",
       "      <td>0.035247</td>\n",
       "      <td>0.994976</td>\n",
       "      <td>1.000000</td>\n",
       "      <td>0.073949</td>\n",
       "      <td>-0.118123</td>\n",
       "    </tr>\n",
       "    <tr>\n",
       "      <th>para2_sqrt</th>\n",
       "      <td>0.069168</td>\n",
       "      <td>0.967793</td>\n",
       "      <td>-0.005654</td>\n",
       "      <td>0.004322</td>\n",
       "      <td>0.467841</td>\n",
       "      <td>0.459125</td>\n",
       "      <td>0.000855</td>\n",
       "      <td>0.078771</td>\n",
       "      <td>0.073949</td>\n",
       "      <td>1.000000</td>\n",
       "      <td>0.003097</td>\n",
       "    </tr>\n",
       "    <tr>\n",
       "      <th>para3_sqrt</th>\n",
       "      <td>0.007940</td>\n",
       "      <td>0.015342</td>\n",
       "      <td>0.981824</td>\n",
       "      <td>0.704942</td>\n",
       "      <td>0.365845</td>\n",
       "      <td>0.443501</td>\n",
       "      <td>-0.049500</td>\n",
       "      <td>-0.125864</td>\n",
       "      <td>-0.118123</td>\n",
       "      <td>0.003097</td>\n",
       "      <td>1.000000</td>\n",
       "    </tr>\n",
       "  </tbody>\n",
       "</table>\n",
       "</div>"
      ],
      "text/plain": [
       "               para1     para2     para3     para4     price  logprice  \\\n",
       "para1       1.000000  0.072025  0.010420  0.001663  0.074754  0.059204   \n",
       "para2       0.072025  1.000000  0.006978  0.020806  0.552681  0.491363   \n",
       "para3       0.010420  0.006978  1.000000  0.691237  0.355088  0.428493   \n",
       "para4       0.001663  0.020806  0.691237  1.000000  0.514990  0.612797   \n",
       "price       0.074754  0.552681  0.355088  0.514990  1.000000  0.892028   \n",
       "logprice    0.059204  0.491363  0.428493  0.612797  0.892028  1.000000   \n",
       "dow_ord     0.129038  0.003857 -0.045833 -0.034891 -0.002249 -0.010095   \n",
       "loc1_ord    0.011520  0.061850 -0.123508 -0.124780 -0.045341 -0.030491   \n",
       "loc2_ord    0.011106  0.058469 -0.115762 -0.120444 -0.046813 -0.033708   \n",
       "para2_sqrt  0.069168  0.967793 -0.005654  0.004322  0.467841  0.459125   \n",
       "para3_sqrt  0.007940  0.015342  0.981824  0.704942  0.365845  0.443501   \n",
       "\n",
       "             dow_ord  loc1_ord  loc2_ord  para2_sqrt  para3_sqrt  \n",
       "para1       0.129038  0.011520  0.011106    0.069168    0.007940  \n",
       "para2       0.003857  0.061850  0.058469    0.967793    0.015342  \n",
       "para3      -0.045833 -0.123508 -0.115762   -0.005654    0.981824  \n",
       "para4      -0.034891 -0.124780 -0.120444    0.004322    0.704942  \n",
       "price      -0.002249 -0.045341 -0.046813    0.467841    0.365845  \n",
       "logprice   -0.010095 -0.030491 -0.033708    0.459125    0.443501  \n",
       "dow_ord     1.000000  0.033301  0.035247    0.000855   -0.049500  \n",
       "loc1_ord    0.033301  1.000000  0.994976    0.078771   -0.125864  \n",
       "loc2_ord    0.035247  0.994976  1.000000    0.073949   -0.118123  \n",
       "para2_sqrt  0.000855  0.078771  0.073949    1.000000    0.003097  \n",
       "para3_sqrt -0.049500 -0.125864 -0.118123    0.003097    1.000000  "
      ]
     },
     "execution_count": 93,
     "metadata": {},
     "output_type": "execute_result"
    }
   ],
   "source": [
    "# check correlation\n",
    "df_corr = df.corr()\n",
    "df_corr"
   ]
  },
  {
   "cell_type": "code",
   "execution_count": 94,
   "metadata": {},
   "outputs": [
    {
     "data": {
      "text/plain": [
       "para1         0.074754\n",
       "para2         0.552681\n",
       "para3         0.355088\n",
       "para4         0.514990\n",
       "price         1.000000\n",
       "logprice      0.892028\n",
       "dow_ord      -0.002249\n",
       "loc1_ord     -0.045341\n",
       "loc2_ord     -0.046813\n",
       "para2_sqrt    0.467841\n",
       "para3_sqrt    0.365845\n",
       "Name: price, dtype: float64"
      ]
     },
     "execution_count": 94,
     "metadata": {},
     "output_type": "execute_result"
    }
   ],
   "source": [
    "df_corr.price"
   ]
  },
  {
   "cell_type": "code",
   "execution_count": 96,
   "metadata": {},
   "outputs": [
    {
     "data": {
      "text/plain": [
       "para1         0.059204\n",
       "para2         0.491363\n",
       "para3         0.428493\n",
       "para4         0.612797\n",
       "price         0.892028\n",
       "logprice      1.000000\n",
       "dow_ord      -0.010095\n",
       "loc1_ord     -0.030491\n",
       "loc2_ord     -0.033708\n",
       "para2_sqrt    0.459125\n",
       "para3_sqrt    0.443501\n",
       "Name: logprice, dtype: float64"
      ]
     },
     "execution_count": 96,
     "metadata": {},
     "output_type": "execute_result"
    }
   ],
   "source": [
    "df_corr.logprice"
   ]
  },
  {
   "cell_type": "code",
   "execution_count": 99,
   "metadata": {},
   "outputs": [
    {
     "data": {
      "text/plain": [
       "<seaborn.axisgrid.PairGrid at 0x11e4d4358>"
      ]
     },
     "execution_count": 99,
     "metadata": {},
     "output_type": "execute_result"
    },
    {
     "data": {
      "image/png": "[encoded data removed]",
      "text/plain": [
       "<matplotlib.figure.Figure at 0x11e1e8dd8>"
      ]
     },
     "metadata": {},
     "output_type": "display_data"
    }
   ],
   "source": [
    "# price\n",
    "sns.pairplot(df, \n",
    "             x_vars=['para1', 'para2', 'para3', 'para4', 'dow_ord', 'loc1_ord', 'loc2_ord', 'para2_sqrt','para3_sqrt'],\n",
    "             y_vars =['price'], \n",
    "             size = 1.5, aspect=2)"
   ]
  },
  {
   "cell_type": "code",
   "execution_count": 100,
   "metadata": {},
   "outputs": [
    {
     "data": {
      "text/plain": [
       "<seaborn.axisgrid.PairGrid at 0x11a655c50>"
      ]
     },
     "execution_count": 100,
     "metadata": {},
     "output_type": "execute_result"
    },
    {
     "data": {
      "image/png": "[encoded data removed]",
      "text/plain": [
       "<matplotlib.figure.Figure at 0x11a6557b8>"
      ]
     },
     "metadata": {},
     "output_type": "display_data"
    }
   ],
   "source": [
    "# logprice\n",
    "sns.pairplot(df, \n",
    "             x_vars=['para1', 'para2', 'para3', 'para4', 'dow_ord', 'loc1_ord', 'loc2_ord', 'para2_sqrt','para3_sqrt'],\n",
    "             y_vars =['logprice'], \n",
    "             size = 1.5, aspect=2)"
   ]
  },
  {
   "cell_type": "markdown",
   "metadata": {},
   "source": [
    "## Linear Regression"
   ]
  },
  {
   "cell_type": "markdown",
   "metadata": {
    "heading_collapsed": true
   },
   "source": [
    "### LR with untransformed variables"
   ]
  },
  {
   "cell_type": "code",
   "execution_count": 55,
   "metadata": {
    "hidden": true
   },
   "outputs": [
    {
     "data": {
      "text/html": [
       "<table class=\"simpletable\">\n",
       "<caption>OLS Regression Results</caption>\n",
       "<tr>\n",
       "  <th>Dep. Variable:</th>          <td>price</td>      <th>  R-squared:         </th> <td>   0.560</td> \n",
       "</tr>\n",
       "<tr>\n",
       "  <th>Model:</th>                   <td>OLS</td>       <th>  Adj. R-squared:    </th> <td>   0.560</td> \n",
       "</tr>\n",
       "<tr>\n",
       "  <th>Method:</th>             <td>Least Squares</td>  <th>  F-statistic:       </th> <td>   3184.</td> \n",
       "</tr>\n",
       "<tr>\n",
       "  <th>Date:</th>             <td>Fri, 30 Mar 2018</td> <th>  Prob (F-statistic):</th>  <td>  0.00</td>  \n",
       "</tr>\n",
       "<tr>\n",
       "  <th>Time:</th>                 <td>09:40:47</td>     <th>  Log-Likelihood:    </th> <td> -66336.</td> \n",
       "</tr>\n",
       "<tr>\n",
       "  <th>No. Observations:</th>      <td> 10000</td>      <th>  AIC:               </th> <td>1.327e+05</td>\n",
       "</tr>\n",
       "<tr>\n",
       "  <th>Df Residuals:</th>          <td>  9995</td>      <th>  BIC:               </th> <td>1.327e+05</td>\n",
       "</tr>\n",
       "<tr>\n",
       "  <th>Df Model:</th>              <td>     4</td>      <th>                     </th>     <td> </td>    \n",
       "</tr>\n",
       "<tr>\n",
       "  <th>Covariance Type:</th>      <td>nonrobust</td>    <th>                     </th>     <td> </td>    \n",
       "</tr>\n",
       "</table>\n",
       "<table class=\"simpletable\">\n",
       "<tr>\n",
       "      <td></td>         <th>coef</th>     <th>std err</th>      <th>t</th>      <th>P>|t|</th>  <th>[0.025</th>    <th>0.975]</th>  \n",
       "</tr>\n",
       "<tr>\n",
       "  <th>Intercept</th> <td> -129.3392</td> <td>    5.326</td> <td>  -24.283</td> <td> 0.000</td> <td> -139.780</td> <td> -118.898</td>\n",
       "</tr>\n",
       "<tr>\n",
       "  <th>para1</th>     <td>    2.7732</td> <td>    0.527</td> <td>    5.262</td> <td> 0.000</td> <td>    1.740</td> <td>    3.806</td>\n",
       "</tr>\n",
       "<tr>\n",
       "  <th>para2</th>     <td>    0.6775</td> <td>    0.008</td> <td>   81.140</td> <td> 0.000</td> <td>    0.661</td> <td>    0.694</td>\n",
       "</tr>\n",
       "<tr>\n",
       "  <th>para3</th>     <td>    0.0002</td> <td>    0.000</td> <td>    0.580</td> <td> 0.562</td> <td>   -0.000</td> <td>    0.001</td>\n",
       "</tr>\n",
       "<tr>\n",
       "  <th>para4</th>     <td>   30.0691</td> <td>    0.552</td> <td>   54.462</td> <td> 0.000</td> <td>   28.987</td> <td>   31.151</td>\n",
       "</tr>\n",
       "</table>\n",
       "<table class=\"simpletable\">\n",
       "<tr>\n",
       "  <th>Omnibus:</th>       <td>9015.690</td> <th>  Durbin-Watson:     </th>  <td>   1.988</td> \n",
       "</tr>\n",
       "<tr>\n",
       "  <th>Prob(Omnibus):</th>  <td> 0.000</td>  <th>  Jarque-Bera (JB):  </th> <td>966713.355</td>\n",
       "</tr>\n",
       "<tr>\n",
       "  <th>Skew:</th>           <td> 3.904</td>  <th>  Prob(JB):          </th>  <td>    0.00</td> \n",
       "</tr>\n",
       "<tr>\n",
       "  <th>Kurtosis:</th>       <td>50.531</td>  <th>  Cond. No.          </th>  <td>3.62e+04</td> \n",
       "</tr>\n",
       "</table>"
      ],
      "text/plain": [
       "<class 'statsmodels.iolib.summary.Summary'>\n",
       "\"\"\"\n",
       "                            OLS Regression Results                            \n",
       "==============================================================================\n",
       "Dep. Variable:                  price   R-squared:                       0.560\n",
       "Model:                            OLS   Adj. R-squared:                  0.560\n",
       "Method:                 Least Squares   F-statistic:                     3184.\n",
       "Date:                Fri, 30 Mar 2018   Prob (F-statistic):               0.00\n",
       "Time:                        09:40:47   Log-Likelihood:                -66336.\n",
       "No. Observations:               10000   AIC:                         1.327e+05\n",
       "Df Residuals:                    9995   BIC:                         1.327e+05\n",
       "Df Model:                           4                                         \n",
       "Covariance Type:            nonrobust                                         \n",
       "==============================================================================\n",
       "                 coef    std err          t      P>|t|      [0.025      0.975]\n",
       "------------------------------------------------------------------------------\n",
       "Intercept   -129.3392      5.326    -24.283      0.000    -139.780    -118.898\n",
       "para1          2.7732      0.527      5.262      0.000       1.740       3.806\n",
       "para2          0.6775      0.008     81.140      0.000       0.661       0.694\n",
       "para3          0.0002      0.000      0.580      0.562      -0.000       0.001\n",
       "para4         30.0691      0.552     54.462      0.000      28.987      31.151\n",
       "==============================================================================\n",
       "Omnibus:                     9015.690   Durbin-Watson:                   1.988\n",
       "Prob(Omnibus):                  0.000   Jarque-Bera (JB):           966713.355\n",
       "Skew:                           3.904   Prob(JB):                         0.00\n",
       "Kurtosis:                      50.531   Cond. No.                     3.62e+04\n",
       "==============================================================================\n",
       "\n",
       "Warnings:\n",
       "[1] Standard Errors assume that the covariance matrix of the errors is correctly specified.\n",
       "[2] The condition number is large, 3.62e+04. This might indicate that there are\n",
       "strong multicollinearity or other numerical problems.\n",
       "\"\"\""
      ]
     },
     "execution_count": 55,
     "metadata": {},
     "output_type": "execute_result"
    }
   ],
   "source": [
    "# Just continuous features\n",
    "\n",
    "# Define the model\n",
    "lm1 = smf.ols('price ~ para1 + para2 + para3 + para4', data=df)\n",
    "# Fit the model\n",
    "fit1 = lm1.fit()\n",
    "# Print summary statistics of the model's performance\n",
    "fit1.summary()"
   ]
  },
  {
   "cell_type": "code",
   "execution_count": 63,
   "metadata": {
    "hidden": true
   },
   "outputs": [
    {
     "data": {
      "text/plain": [
       "<matplotlib.collections.PathCollection at 0x118599e80>"
      ]
     },
     "execution_count": 63,
     "metadata": {},
     "output_type": "execute_result"
    },
    {
     "data": {
      "image/png": "[encoded data removed]",
      "text/plain": [
       "<matplotlib.figure.Figure at 0x1185c4828>"
      ]
     },
     "metadata": {},
     "output_type": "display_data"
    }
   ],
   "source": [
    "plt.scatter(df.price, fit1.resid)"
   ]
  },
  {
   "cell_type": "code",
   "execution_count": 56,
   "metadata": {
    "hidden": true
   },
   "outputs": [
    {
     "data": {
      "text/html": [
       "<table class=\"simpletable\">\n",
       "<caption>OLS Regression Results</caption>\n",
       "<tr>\n",
       "  <th>Dep. Variable:</th>          <td>price</td>      <th>  R-squared:         </th> <td>   0.561</td> \n",
       "</tr>\n",
       "<tr>\n",
       "  <th>Model:</th>                   <td>OLS</td>       <th>  Adj. R-squared:    </th> <td>   0.561</td> \n",
       "</tr>\n",
       "<tr>\n",
       "  <th>Method:</th>             <td>Least Squares</td>  <th>  F-statistic:       </th> <td>   1824.</td> \n",
       "</tr>\n",
       "<tr>\n",
       "  <th>Date:</th>             <td>Fri, 30 Mar 2018</td> <th>  Prob (F-statistic):</th>  <td>  0.00</td>  \n",
       "</tr>\n",
       "<tr>\n",
       "  <th>Time:</th>                 <td>09:40:47</td>     <th>  Log-Likelihood:    </th> <td> -66328.</td> \n",
       "</tr>\n",
       "<tr>\n",
       "  <th>No. Observations:</th>      <td> 10000</td>      <th>  AIC:               </th> <td>1.327e+05</td>\n",
       "</tr>\n",
       "<tr>\n",
       "  <th>Df Residuals:</th>          <td>  9992</td>      <th>  BIC:               </th> <td>1.327e+05</td>\n",
       "</tr>\n",
       "<tr>\n",
       "  <th>Df Model:</th>              <td>     7</td>      <th>                     </th>     <td> </td>    \n",
       "</tr>\n",
       "<tr>\n",
       "  <th>Covariance Type:</th>      <td>nonrobust</td>    <th>                     </th>     <td> </td>    \n",
       "</tr>\n",
       "</table>\n",
       "<table class=\"simpletable\">\n",
       "<tr>\n",
       "      <td></td>         <th>coef</th>     <th>std err</th>      <th>t</th>      <th>P>|t|</th>  <th>[0.025</th>    <th>0.975]</th>  \n",
       "</tr>\n",
       "<tr>\n",
       "  <th>Intercept</th> <td> -114.2167</td> <td>    7.760</td> <td>  -14.720</td> <td> 0.000</td> <td> -129.427</td> <td>  -99.006</td>\n",
       "</tr>\n",
       "<tr>\n",
       "  <th>para1</th>     <td>    2.6777</td> <td>    0.531</td> <td>    5.041</td> <td> 0.000</td> <td>    1.636</td> <td>    3.719</td>\n",
       "</tr>\n",
       "<tr>\n",
       "  <th>para2</th>     <td>    0.6782</td> <td>    0.008</td> <td>   81.064</td> <td> 0.000</td> <td>    0.662</td> <td>    0.695</td>\n",
       "</tr>\n",
       "<tr>\n",
       "  <th>para3</th>     <td>    0.0002</td> <td>    0.000</td> <td>    0.682</td> <td> 0.495</td> <td>   -0.000</td> <td>    0.001</td>\n",
       "</tr>\n",
       "<tr>\n",
       "  <th>para4</th>     <td>   29.9690</td> <td>    0.553</td> <td>   54.225</td> <td> 0.000</td> <td>   28.886</td> <td>   31.052</td>\n",
       "</tr>\n",
       "<tr>\n",
       "  <th>dow_ord</th>   <td>    1.9785</td> <td>    1.332</td> <td>    1.485</td> <td> 0.138</td> <td>   -0.633</td> <td>    4.590</td>\n",
       "</tr>\n",
       "<tr>\n",
       "  <th>loc1_ord</th>  <td>   16.9064</td> <td>    6.376</td> <td>    2.652</td> <td> 0.008</td> <td>    4.408</td> <td>   29.404</td>\n",
       "</tr>\n",
       "<tr>\n",
       "  <th>loc2_ord</th>  <td>   -1.7726</td> <td>    0.608</td> <td>   -2.918</td> <td> 0.004</td> <td>   -2.964</td> <td>   -0.582</td>\n",
       "</tr>\n",
       "</table>\n",
       "<table class=\"simpletable\">\n",
       "<tr>\n",
       "  <th>Omnibus:</th>       <td>9010.513</td> <th>  Durbin-Watson:     </th>  <td>   1.990</td> \n",
       "</tr>\n",
       "<tr>\n",
       "  <th>Prob(Omnibus):</th>  <td> 0.000</td>  <th>  Jarque-Bera (JB):  </th> <td>965403.312</td>\n",
       "</tr>\n",
       "<tr>\n",
       "  <th>Skew:</th>           <td> 3.900</td>  <th>  Prob(JB):          </th>  <td>    0.00</td> \n",
       "</tr>\n",
       "<tr>\n",
       "  <th>Kurtosis:</th>       <td>50.499</td>  <th>  Cond. No.          </th>  <td>5.99e+04</td> \n",
       "</tr>\n",
       "</table>"
      ],
      "text/plain": [
       "<class 'statsmodels.iolib.summary.Summary'>\n",
       "\"\"\"\n",
       "                            OLS Regression Results                            \n",
       "==============================================================================\n",
       "Dep. Variable:                  price   R-squared:                       0.561\n",
       "Model:                            OLS   Adj. R-squared:                  0.561\n",
       "Method:                 Least Squares   F-statistic:                     1824.\n",
       "Date:                Fri, 30 Mar 2018   Prob (F-statistic):               0.00\n",
       "Time:                        09:40:47   Log-Likelihood:                -66328.\n",
       "No. Observations:               10000   AIC:                         1.327e+05\n",
       "Df Residuals:                    9992   BIC:                         1.327e+05\n",
       "Df Model:                           7                                         \n",
       "Covariance Type:            nonrobust                                         \n",
       "==============================================================================\n",
       "                 coef    std err          t      P>|t|      [0.025      0.975]\n",
       "------------------------------------------------------------------------------\n",
       "Intercept   -114.2167      7.760    -14.720      0.000    -129.427     -99.006\n",
       "para1          2.6777      0.531      5.041      0.000       1.636       3.719\n",
       "para2          0.6782      0.008     81.064      0.000       0.662       0.695\n",
       "para3          0.0002      0.000      0.682      0.495      -0.000       0.001\n",
       "para4         29.9690      0.553     54.225      0.000      28.886      31.052\n",
       "dow_ord        1.9785      1.332      1.485      0.138      -0.633       4.590\n",
       "loc1_ord      16.9064      6.376      2.652      0.008       4.408      29.404\n",
       "loc2_ord      -1.7726      0.608     -2.918      0.004      -2.964      -0.582\n",
       "==============================================================================\n",
       "Omnibus:                     9010.513   Durbin-Watson:                   1.990\n",
       "Prob(Omnibus):                  0.000   Jarque-Bera (JB):           965403.312\n",
       "Skew:                           3.900   Prob(JB):                         0.00\n",
       "Kurtosis:                      50.499   Cond. No.                     5.99e+04\n",
       "==============================================================================\n",
       "\n",
       "Warnings:\n",
       "[1] Standard Errors assume that the covariance matrix of the errors is correctly specified.\n",
       "[2] The condition number is large, 5.99e+04. This might indicate that there are\n",
       "strong multicollinearity or other numerical problems.\n",
       "\"\"\""
      ]
     },
     "execution_count": 56,
     "metadata": {},
     "output_type": "execute_result"
    }
   ],
   "source": [
    "# Continuous and ordinal variables\n",
    "\n",
    "# Define the model\n",
    "lm2 = smf.ols('price ~ para1 + para2 + para3 + para4 + dow_ord + loc1_ord + loc2_ord', data=df)\n",
    "# Fit the model\n",
    "fit2 = lm2.fit()\n",
    "# Print summary statistics of the model's performance\n",
    "fit2.summary()"
   ]
  },
  {
   "cell_type": "markdown",
   "metadata": {},
   "source": [
    "### With logprice"
   ]
  },
  {
   "cell_type": "code",
   "execution_count": 57,
   "metadata": {},
   "outputs": [
    {
     "data": {
      "text/html": [
       "<table class=\"simpletable\">\n",
       "<caption>OLS Regression Results</caption>\n",
       "<tr>\n",
       "  <th>Dep. Variable:</th>        <td>logprice</td>     <th>  R-squared:         </th> <td>   0.607</td>\n",
       "</tr>\n",
       "<tr>\n",
       "  <th>Model:</th>                   <td>OLS</td>       <th>  Adj. R-squared:    </th> <td>   0.607</td>\n",
       "</tr>\n",
       "<tr>\n",
       "  <th>Method:</th>             <td>Least Squares</td>  <th>  F-statistic:       </th> <td>   2209.</td>\n",
       "</tr>\n",
       "<tr>\n",
       "  <th>Date:</th>             <td>Fri, 30 Mar 2018</td> <th>  Prob (F-statistic):</th>  <td>  0.00</td> \n",
       "</tr>\n",
       "<tr>\n",
       "  <th>Time:</th>                 <td>09:40:49</td>     <th>  Log-Likelihood:    </th> <td> -3613.7</td>\n",
       "</tr>\n",
       "<tr>\n",
       "  <th>No. Observations:</th>      <td> 10000</td>      <th>  AIC:               </th> <td>   7243.</td>\n",
       "</tr>\n",
       "<tr>\n",
       "  <th>Df Residuals:</th>          <td>  9992</td>      <th>  BIC:               </th> <td>   7301.</td>\n",
       "</tr>\n",
       "<tr>\n",
       "  <th>Df Model:</th>              <td>     7</td>      <th>                     </th>     <td> </td>   \n",
       "</tr>\n",
       "<tr>\n",
       "  <th>Covariance Type:</th>      <td>nonrobust</td>    <th>                     </th>     <td> </td>   \n",
       "</tr>\n",
       "</table>\n",
       "<table class=\"simpletable\">\n",
       "<tr>\n",
       "      <td></td>         <th>coef</th>     <th>std err</th>      <th>t</th>      <th>P>|t|</th>  <th>[0.025</th>    <th>0.975]</th>  \n",
       "</tr>\n",
       "<tr>\n",
       "  <th>Intercept</th> <td>    4.8010</td> <td>    0.015</td> <td>  327.453</td> <td> 0.000</td> <td>    4.772</td> <td>    4.830</td>\n",
       "</tr>\n",
       "<tr>\n",
       "  <th>para1</th>     <td>    0.0036</td> <td>    0.001</td> <td>    3.555</td> <td> 0.000</td> <td>    0.002</td> <td>    0.006</td>\n",
       "</tr>\n",
       "<tr>\n",
       "  <th>para2</th>     <td>    0.0012</td> <td> 1.58e-05</td> <td>   75.366</td> <td> 0.000</td> <td>    0.001</td> <td>    0.001</td>\n",
       "</tr>\n",
       "<tr>\n",
       "  <th>para3</th>     <td> 1.444e-06</td> <td> 6.02e-07</td> <td>    2.399</td> <td> 0.016</td> <td> 2.64e-07</td> <td> 2.62e-06</td>\n",
       "</tr>\n",
       "<tr>\n",
       "  <th>para4</th>     <td>    0.0712</td> <td>    0.001</td> <td>   68.149</td> <td> 0.000</td> <td>    0.069</td> <td>    0.073</td>\n",
       "</tr>\n",
       "<tr>\n",
       "  <th>dow_ord</th>   <td>    0.0028</td> <td>    0.003</td> <td>    1.129</td> <td> 0.259</td> <td>   -0.002</td> <td>    0.008</td>\n",
       "</tr>\n",
       "<tr>\n",
       "  <th>loc1_ord</th>  <td>    0.0842</td> <td>    0.012</td> <td>    6.987</td> <td> 0.000</td> <td>    0.061</td> <td>    0.108</td>\n",
       "</tr>\n",
       "<tr>\n",
       "  <th>loc2_ord</th>  <td>   -0.0078</td> <td>    0.001</td> <td>   -6.772</td> <td> 0.000</td> <td>   -0.010</td> <td>   -0.006</td>\n",
       "</tr>\n",
       "</table>\n",
       "<table class=\"simpletable\">\n",
       "<tr>\n",
       "  <th>Omnibus:</th>       <td>612.241</td> <th>  Durbin-Watson:     </th> <td>   1.987</td>\n",
       "</tr>\n",
       "<tr>\n",
       "  <th>Prob(Omnibus):</th> <td> 0.000</td>  <th>  Jarque-Bera (JB):  </th> <td>2377.580</td>\n",
       "</tr>\n",
       "<tr>\n",
       "  <th>Skew:</th>          <td>-0.183</td>  <th>  Prob(JB):          </th> <td>    0.00</td>\n",
       "</tr>\n",
       "<tr>\n",
       "  <th>Kurtosis:</th>      <td> 5.360</td>  <th>  Cond. No.          </th> <td>5.99e+04</td>\n",
       "</tr>\n",
       "</table>"
      ],
      "text/plain": [
       "<class 'statsmodels.iolib.summary.Summary'>\n",
       "\"\"\"\n",
       "                            OLS Regression Results                            \n",
       "==============================================================================\n",
       "Dep. Variable:               logprice   R-squared:                       0.607\n",
       "Model:                            OLS   Adj. R-squared:                  0.607\n",
       "Method:                 Least Squares   F-statistic:                     2209.\n",
       "Date:                Fri, 30 Mar 2018   Prob (F-statistic):               0.00\n",
       "Time:                        09:40:49   Log-Likelihood:                -3613.7\n",
       "No. Observations:               10000   AIC:                             7243.\n",
       "Df Residuals:                    9992   BIC:                             7301.\n",
       "Df Model:                           7                                         \n",
       "Covariance Type:            nonrobust                                         \n",
       "==============================================================================\n",
       "                 coef    std err          t      P>|t|      [0.025      0.975]\n",
       "------------------------------------------------------------------------------\n",
       "Intercept      4.8010      0.015    327.453      0.000       4.772       4.830\n",
       "para1          0.0036      0.001      3.555      0.000       0.002       0.006\n",
       "para2          0.0012   1.58e-05     75.366      0.000       0.001       0.001\n",
       "para3       1.444e-06   6.02e-07      2.399      0.016    2.64e-07    2.62e-06\n",
       "para4          0.0712      0.001     68.149      0.000       0.069       0.073\n",
       "dow_ord        0.0028      0.003      1.129      0.259      -0.002       0.008\n",
       "loc1_ord       0.0842      0.012      6.987      0.000       0.061       0.108\n",
       "loc2_ord      -0.0078      0.001     -6.772      0.000      -0.010      -0.006\n",
       "==============================================================================\n",
       "Omnibus:                      612.241   Durbin-Watson:                   1.987\n",
       "Prob(Omnibus):                  0.000   Jarque-Bera (JB):             2377.580\n",
       "Skew:                          -0.183   Prob(JB):                         0.00\n",
       "Kurtosis:                       5.360   Cond. No.                     5.99e+04\n",
       "==============================================================================\n",
       "\n",
       "Warnings:\n",
       "[1] Standard Errors assume that the covariance matrix of the errors is correctly specified.\n",
       "[2] The condition number is large, 5.99e+04. This might indicate that there are\n",
       "strong multicollinearity or other numerical problems.\n",
       "\"\"\""
      ]
     },
     "execution_count": 57,
     "metadata": {},
     "output_type": "execute_result"
    }
   ],
   "source": [
    "# Continuous and ordinal variables\n",
    "\n",
    "# Define the model\n",
    "lm3 = smf.ols('logprice ~ para1 + para2 + para3 + para4 + dow_ord + loc1_ord + loc2_ord', data=df)\n",
    "# Fit the model\n",
    "fit3 = lm3.fit()\n",
    "# Print summary statistics of the model's performance\n",
    "fit3.summary()"
   ]
  },
  {
   "cell_type": "code",
   "execution_count": 108,
   "metadata": {},
   "outputs": [
    {
     "data": {
      "text/html": [
       "<table class=\"simpletable\">\n",
       "<caption>OLS Regression Results</caption>\n",
       "<tr>\n",
       "  <th>Dep. Variable:</th>        <td>logprice</td>     <th>  R-squared:         </th> <td>   0.607</td>\n",
       "</tr>\n",
       "<tr>\n",
       "  <th>Model:</th>                   <td>OLS</td>       <th>  Adj. R-squared:    </th> <td>   0.607</td>\n",
       "</tr>\n",
       "<tr>\n",
       "  <th>Method:</th>             <td>Least Squares</td>  <th>  F-statistic:       </th> <td>   2574.</td>\n",
       "</tr>\n",
       "<tr>\n",
       "  <th>Date:</th>             <td>Fri, 30 Mar 2018</td> <th>  Prob (F-statistic):</th>  <td>  0.00</td> \n",
       "</tr>\n",
       "<tr>\n",
       "  <th>Time:</th>                 <td>10:12:02</td>     <th>  Log-Likelihood:    </th> <td> -3618.2</td>\n",
       "</tr>\n",
       "<tr>\n",
       "  <th>No. Observations:</th>      <td> 10000</td>      <th>  AIC:               </th> <td>   7250.</td>\n",
       "</tr>\n",
       "<tr>\n",
       "  <th>Df Residuals:</th>          <td>  9993</td>      <th>  BIC:               </th> <td>   7301.</td>\n",
       "</tr>\n",
       "<tr>\n",
       "  <th>Df Model:</th>              <td>     6</td>      <th>                     </th>     <td> </td>   \n",
       "</tr>\n",
       "<tr>\n",
       "  <th>Covariance Type:</th>      <td>nonrobust</td>    <th>                     </th>     <td> </td>   \n",
       "</tr>\n",
       "</table>\n",
       "<table class=\"simpletable\">\n",
       "<tr>\n",
       "       <td></td>         <th>coef</th>     <th>std err</th>      <th>t</th>      <th>P>|t|</th>  <th>[0.025</th>    <th>0.975]</th>  \n",
       "</tr>\n",
       "<tr>\n",
       "  <th>Intercept</th>  <td>    4.7884</td> <td>    0.015</td> <td>  315.376</td> <td> 0.000</td> <td>    4.759</td> <td>    4.818</td>\n",
       "</tr>\n",
       "<tr>\n",
       "  <th>para2</th>      <td>    0.0012</td> <td> 1.58e-05</td> <td>   75.751</td> <td> 0.000</td> <td>    0.001</td> <td>    0.001</td>\n",
       "</tr>\n",
       "<tr>\n",
       "  <th>para3_sqrt</th> <td>    0.0004</td> <td>    0.000</td> <td>    3.136</td> <td> 0.002</td> <td>    0.000</td> <td>    0.001</td>\n",
       "</tr>\n",
       "<tr>\n",
       "  <th>para4</th>      <td>    0.0706</td> <td>    0.001</td> <td>   66.323</td> <td> 0.000</td> <td>    0.068</td> <td>    0.073</td>\n",
       "</tr>\n",
       "<tr>\n",
       "  <th>dow_ord</th>    <td>    0.0041</td> <td>    0.002</td> <td>    1.639</td> <td> 0.101</td> <td>   -0.001</td> <td>    0.009</td>\n",
       "</tr>\n",
       "<tr>\n",
       "  <th>loc1_ord</th>   <td>    0.0850</td> <td>    0.012</td> <td>    7.054</td> <td> 0.000</td> <td>    0.061</td> <td>    0.109</td>\n",
       "</tr>\n",
       "<tr>\n",
       "  <th>loc2_ord</th>   <td>   -0.0078</td> <td>    0.001</td> <td>   -6.834</td> <td> 0.000</td> <td>   -0.010</td> <td>   -0.006</td>\n",
       "</tr>\n",
       "</table>\n",
       "<table class=\"simpletable\">\n",
       "<tr>\n",
       "  <th>Omnibus:</th>       <td>609.658</td> <th>  Durbin-Watson:     </th> <td>   1.986</td>\n",
       "</tr>\n",
       "<tr>\n",
       "  <th>Prob(Omnibus):</th> <td> 0.000</td>  <th>  Jarque-Bera (JB):  </th> <td>2372.755</td>\n",
       "</tr>\n",
       "<tr>\n",
       "  <th>Skew:</th>          <td>-0.179</td>  <th>  Prob(JB):          </th> <td>    0.00</td>\n",
       "</tr>\n",
       "<tr>\n",
       "  <th>Kurtosis:</th>      <td> 5.359</td>  <th>  Cond. No.          </th> <td>2.47e+03</td>\n",
       "</tr>\n",
       "</table>"
      ],
      "text/plain": [
       "<class 'statsmodels.iolib.summary.Summary'>\n",
       "\"\"\"\n",
       "                            OLS Regression Results                            \n",
       "==============================================================================\n",
       "Dep. Variable:               logprice   R-squared:                       0.607\n",
       "Model:                            OLS   Adj. R-squared:                  0.607\n",
       "Method:                 Least Squares   F-statistic:                     2574.\n",
       "Date:                Fri, 30 Mar 2018   Prob (F-statistic):               0.00\n",
       "Time:                        10:12:02   Log-Likelihood:                -3618.2\n",
       "No. Observations:               10000   AIC:                             7250.\n",
       "Df Residuals:                    9993   BIC:                             7301.\n",
       "Df Model:                           6                                         \n",
       "Covariance Type:            nonrobust                                         \n",
       "==============================================================================\n",
       "                 coef    std err          t      P>|t|      [0.025      0.975]\n",
       "------------------------------------------------------------------------------\n",
       "Intercept      4.7884      0.015    315.376      0.000       4.759       4.818\n",
       "para2          0.0012   1.58e-05     75.751      0.000       0.001       0.001\n",
       "para3_sqrt     0.0004      0.000      3.136      0.002       0.000       0.001\n",
       "para4          0.0706      0.001     66.323      0.000       0.068       0.073\n",
       "dow_ord        0.0041      0.002      1.639      0.101      -0.001       0.009\n",
       "loc1_ord       0.0850      0.012      7.054      0.000       0.061       0.109\n",
       "loc2_ord      -0.0078      0.001     -6.834      0.000      -0.010      -0.006\n",
       "==============================================================================\n",
       "Omnibus:                      609.658   Durbin-Watson:                   1.986\n",
       "Prob(Omnibus):                  0.000   Jarque-Bera (JB):             2372.755\n",
       "Skew:                          -0.179   Prob(JB):                         0.00\n",
       "Kurtosis:                       5.359   Cond. No.                     2.47e+03\n",
       "==============================================================================\n",
       "\n",
       "Warnings:\n",
       "[1] Standard Errors assume that the covariance matrix of the errors is correctly specified.\n",
       "[2] The condition number is large, 2.47e+03. This might indicate that there are\n",
       "strong multicollinearity or other numerical problems.\n",
       "\"\"\""
      ]
     },
     "execution_count": 108,
     "metadata": {},
     "output_type": "execute_result"
    }
   ],
   "source": [
    "# Continuous and ordinal variables\n",
    "\n",
    "# Define the model\n",
    "lm3 = smf.ols('logprice ~ para2 + para3_sqrt + para4 + dow_ord + loc1_ord + loc2_ord', data=df)\n",
    "# Fit the model\n",
    "fit3 = lm3.fit()\n",
    "# Print summary statistics of the model's performance\n",
    "fit3.summary()"
   ]
  },
  {
   "cell_type": "code",
   "execution_count": 107,
   "metadata": {},
   "outputs": [
    {
     "data": {
      "text/html": [
       "<table class=\"simpletable\">\n",
       "<caption>OLS Regression Results</caption>\n",
       "<tr>\n",
       "  <th>Dep. Variable:</th>        <td>logprice</td>     <th>  R-squared:         </th> <td>   0.607</td>\n",
       "</tr>\n",
       "<tr>\n",
       "  <th>Model:</th>                   <td>OLS</td>       <th>  Adj. R-squared:    </th> <td>   0.607</td>\n",
       "</tr>\n",
       "<tr>\n",
       "  <th>Method:</th>             <td>Least Squares</td>  <th>  F-statistic:       </th> <td>   3090.</td>\n",
       "</tr>\n",
       "<tr>\n",
       "  <th>Date:</th>             <td>Fri, 30 Mar 2018</td> <th>  Prob (F-statistic):</th>  <td>  0.00</td> \n",
       "</tr>\n",
       "<tr>\n",
       "  <th>Time:</th>                 <td>10:11:54</td>     <th>  Log-Likelihood:    </th> <td> -3617.2</td>\n",
       "</tr>\n",
       "<tr>\n",
       "  <th>No. Observations:</th>      <td> 10000</td>      <th>  AIC:               </th> <td>   7246.</td>\n",
       "</tr>\n",
       "<tr>\n",
       "  <th>Df Residuals:</th>          <td>  9994</td>      <th>  BIC:               </th> <td>   7290.</td>\n",
       "</tr>\n",
       "<tr>\n",
       "  <th>Df Model:</th>              <td>     5</td>      <th>                     </th>     <td> </td>   \n",
       "</tr>\n",
       "<tr>\n",
       "  <th>Covariance Type:</th>      <td>nonrobust</td>    <th>                     </th>     <td> </td>   \n",
       "</tr>\n",
       "</table>\n",
       "<table class=\"simpletable\">\n",
       "<tr>\n",
       "      <td></td>         <th>coef</th>     <th>std err</th>      <th>t</th>      <th>P>|t|</th>  <th>[0.025</th>    <th>0.975]</th>  \n",
       "</tr>\n",
       "<tr>\n",
       "  <th>Intercept</th> <td>    4.8050</td> <td>    0.014</td> <td>  346.757</td> <td> 0.000</td> <td>    4.778</td> <td>    4.832</td>\n",
       "</tr>\n",
       "<tr>\n",
       "  <th>para1</th>     <td>    0.0037</td> <td>    0.001</td> <td>    3.766</td> <td> 0.000</td> <td>    0.002</td> <td>    0.006</td>\n",
       "</tr>\n",
       "<tr>\n",
       "  <th>para2</th>     <td>    0.0012</td> <td> 1.58e-05</td> <td>   75.329</td> <td> 0.000</td> <td>    0.001</td> <td>    0.001</td>\n",
       "</tr>\n",
       "<tr>\n",
       "  <th>para4</th>     <td>    0.0729</td> <td>    0.001</td> <td>   95.852</td> <td> 0.000</td> <td>    0.071</td> <td>    0.074</td>\n",
       "</tr>\n",
       "<tr>\n",
       "  <th>loc1_ord</th>  <td>    0.0819</td> <td>    0.012</td> <td>    6.817</td> <td> 0.000</td> <td>    0.058</td> <td>    0.105</td>\n",
       "</tr>\n",
       "<tr>\n",
       "  <th>loc2_ord</th>  <td>   -0.0076</td> <td>    0.001</td> <td>   -6.608</td> <td> 0.000</td> <td>   -0.010</td> <td>   -0.005</td>\n",
       "</tr>\n",
       "</table>\n",
       "<table class=\"simpletable\">\n",
       "<tr>\n",
       "  <th>Omnibus:</th>       <td>622.370</td> <th>  Durbin-Watson:     </th> <td>   1.988</td>\n",
       "</tr>\n",
       "<tr>\n",
       "  <th>Prob(Omnibus):</th> <td> 0.000</td>  <th>  Jarque-Bera (JB):  </th> <td>2432.124</td>\n",
       "</tr>\n",
       "<tr>\n",
       "  <th>Skew:</th>          <td>-0.190</td>  <th>  Prob(JB):          </th> <td>    0.00</td>\n",
       "</tr>\n",
       "<tr>\n",
       "  <th>Kurtosis:</th>      <td> 5.386</td>  <th>  Cond. No.          </th> <td>2.34e+03</td>\n",
       "</tr>\n",
       "</table>"
      ],
      "text/plain": [
       "<class 'statsmodels.iolib.summary.Summary'>\n",
       "\"\"\"\n",
       "                            OLS Regression Results                            \n",
       "==============================================================================\n",
       "Dep. Variable:               logprice   R-squared:                       0.607\n",
       "Model:                            OLS   Adj. R-squared:                  0.607\n",
       "Method:                 Least Squares   F-statistic:                     3090.\n",
       "Date:                Fri, 30 Mar 2018   Prob (F-statistic):               0.00\n",
       "Time:                        10:11:54   Log-Likelihood:                -3617.2\n",
       "No. Observations:               10000   AIC:                             7246.\n",
       "Df Residuals:                    9994   BIC:                             7290.\n",
       "Df Model:                           5                                         \n",
       "Covariance Type:            nonrobust                                         \n",
       "==============================================================================\n",
       "                 coef    std err          t      P>|t|      [0.025      0.975]\n",
       "------------------------------------------------------------------------------\n",
       "Intercept      4.8050      0.014    346.757      0.000       4.778       4.832\n",
       "para1          0.0037      0.001      3.766      0.000       0.002       0.006\n",
       "para2          0.0012   1.58e-05     75.329      0.000       0.001       0.001\n",
       "para4          0.0729      0.001     95.852      0.000       0.071       0.074\n",
       "loc1_ord       0.0819      0.012      6.817      0.000       0.058       0.105\n",
       "loc2_ord      -0.0076      0.001     -6.608      0.000      -0.010      -0.005\n",
       "==============================================================================\n",
       "Omnibus:                      622.370   Durbin-Watson:                   1.988\n",
       "Prob(Omnibus):                  0.000   Jarque-Bera (JB):             2432.124\n",
       "Skew:                          -0.190   Prob(JB):                         0.00\n",
       "Kurtosis:                       5.386   Cond. No.                     2.34e+03\n",
       "==============================================================================\n",
       "\n",
       "Warnings:\n",
       "[1] Standard Errors assume that the covariance matrix of the errors is correctly specified.\n",
       "[2] The condition number is large, 2.34e+03. This might indicate that there are\n",
       "strong multicollinearity or other numerical problems.\n",
       "\"\"\""
      ]
     },
     "execution_count": 107,
     "metadata": {},
     "output_type": "execute_result"
    }
   ],
   "source": [
    "# So far, just looking at p-values and coefficients: para3 and dow_ord seem insignificant, but logprice seems to work well\n",
    "\n",
    "# Define the model\n",
    "lm4 = smf.ols('logprice ~ para1 + para2 + para4 + loc1_ord + loc2_ord', data=df)\n",
    "# Fit the model\n",
    "fit4 = lm4.fit()\n",
    "# Print summary statistics of the model's performance\n",
    "fit4.summary()"
   ]
  },
  {
   "cell_type": "code",
   "execution_count": 59,
   "metadata": {},
   "outputs": [
    {
     "data": {
      "text/plain": [
       "<matplotlib.axes._subplots.AxesSubplot at 0x115ddb898>"
      ]
     },
     "execution_count": 59,
     "metadata": {},
     "output_type": "execute_result"
    },
    {
     "data": {
      "image/png": "[encoded data removed]",
      "text/plain": [
       "<matplotlib.figure.Figure at 0x117ab2128>"
      ]
     },
     "metadata": {},
     "output_type": "display_data"
    }
   ],
   "source": [
    "# Check residuals\n",
    "\n",
    "fit4.resid.hist()"
   ]
  },
  {
   "cell_type": "code",
   "execution_count": 109,
   "metadata": {},
   "outputs": [
    {
     "data": {
      "text/plain": [
       "<matplotlib.collections.PathCollection at 0x11b5c97b8>"
      ]
     },
     "execution_count": 109,
     "metadata": {},
     "output_type": "execute_result"
    },
    {
     "data": {
      "image/png": "[encoded data removed]",
      "text/plain": [
       "<matplotlib.figure.Figure at 0x11a540518>"
      ]
     },
     "metadata": {},
     "output_type": "display_data"
    }
   ],
   "source": [
    "plt.scatter(df.logprice, fit4.resid)"
   ]
  },
  {
   "cell_type": "markdown",
   "metadata": {},
   "source": [
    "## MVP"
   ]
  },
  {
   "cell_type": "markdown",
   "metadata": {},
   "source": [
    "### MVP DF"
   ]
  },
  {
   "cell_type": "code",
   "execution_count": 65,
   "metadata": {},
   "outputs": [
    {
     "data": {
      "text/html": [
       "<div>\n",
       "<style>\n",
       "    .dataframe thead tr:only-child th {\n",
       "        text-align: right;\n",
       "    }\n",
       "\n",
       "    .dataframe thead th {\n",
       "        text-align: left;\n",
       "    }\n",
       "\n",
       "    .dataframe tbody tr th {\n",
       "        vertical-align: top;\n",
       "    }\n",
       "</style>\n",
       "<table border=\"1\" class=\"dataframe\">\n",
       "  <thead>\n",
       "    <tr style=\"text-align: right;\">\n",
       "      <th></th>\n",
       "      <th>logprice</th>\n",
       "      <th>para1</th>\n",
       "      <th>para2</th>\n",
       "      <th>para3</th>\n",
       "      <th>para4</th>\n",
       "      <th>loc1_ord</th>\n",
       "      <th>loc2_ord</th>\n",
       "    </tr>\n",
       "  </thead>\n",
       "  <tbody>\n",
       "    <tr>\n",
       "      <th>0</th>\n",
       "      <td>4.297149</td>\n",
       "      <td>1</td>\n",
       "      <td>662</td>\n",
       "      <td>3000.0</td>\n",
       "      <td>3.8</td>\n",
       "      <td>0</td>\n",
       "      <td>1</td>\n",
       "    </tr>\n",
       "    <tr>\n",
       "      <th>1</th>\n",
       "      <td>5.703782</td>\n",
       "      <td>1</td>\n",
       "      <td>340</td>\n",
       "      <td>2760.0</td>\n",
       "      <td>9.2</td>\n",
       "      <td>9</td>\n",
       "      <td>104</td>\n",
       "    </tr>\n",
       "    <tr>\n",
       "      <th>2</th>\n",
       "      <td>4.867534</td>\n",
       "      <td>0</td>\n",
       "      <td>16</td>\n",
       "      <td>2700.0</td>\n",
       "      <td>3.0</td>\n",
       "      <td>0</td>\n",
       "      <td>4</td>\n",
       "    </tr>\n",
       "    <tr>\n",
       "      <th>3</th>\n",
       "      <td>5.899897</td>\n",
       "      <td>1</td>\n",
       "      <td>17</td>\n",
       "      <td>12320.0</td>\n",
       "      <td>6.4</td>\n",
       "      <td>4</td>\n",
       "      <td>45</td>\n",
       "    </tr>\n",
       "    <tr>\n",
       "      <th>4</th>\n",
       "      <td>5.879135</td>\n",
       "      <td>1</td>\n",
       "      <td>610</td>\n",
       "      <td>2117.0</td>\n",
       "      <td>10.8</td>\n",
       "      <td>5</td>\n",
       "      <td>55</td>\n",
       "    </tr>\n",
       "  </tbody>\n",
       "</table>\n",
       "</div>"
      ],
      "text/plain": [
       "   logprice  para1  para2    para3  para4  loc1_ord  loc2_ord\n",
       "0  4.297149      1    662   3000.0    3.8         0         1\n",
       "1  5.703782      1    340   2760.0    9.2         9       104\n",
       "2  4.867534      0     16   2700.0    3.0         0         4\n",
       "3  5.899897      1     17  12320.0    6.4         4        45\n",
       "4  5.879135      1    610   2117.0   10.8         5        55"
      ]
     },
     "execution_count": 65,
     "metadata": {},
     "output_type": "execute_result"
    }
   ],
   "source": [
    "df_mvp = df[['logprice', 'para1','para2','para3','para4','loc1_ord','loc2_ord']]\n",
    "df_mvp.head()"
   ]
  },
  {
   "cell_type": "code",
   "execution_count": 66,
   "metadata": {
    "collapsed": true
   },
   "outputs": [],
   "source": [
    "# use dow_cat (days of week as categorical variables) instead of ordinal variable\n",
    "df_mvp = df_mvp.join(dow_cat).drop('Intercept',axis=1)"
   ]
  },
  {
   "cell_type": "code",
   "execution_count": 67,
   "metadata": {},
   "outputs": [
    {
     "data": {
      "text/plain": [
       "array([ 1,  0,  4,  3,  2,  5, 24,  7,  6, 13,  9,  8])"
      ]
     },
     "execution_count": 67,
     "metadata": {},
     "output_type": "execute_result"
    }
   ],
   "source": [
    "# drop outlier from para1\n",
    "df_mvp = df_mvp[df_mvp.para1 < 300]\n",
    "df_mvp['para1'].unique()"
   ]
  },
  {
   "cell_type": "code",
   "execution_count": 68,
   "metadata": {},
   "outputs": [
    {
     "data": {
      "text/plain": [
       "Index(['logprice', 'para1', 'para2', 'para3', 'para4', 'loc1_ord', 'loc2_ord',\n",
       "       'dow[T.Mon]', 'dow[T.Sat]', 'dow[T.Sun]', 'dow[T.Thu]', 'dow[T.Tue]',\n",
       "       'dow[T.Wed]'],\n",
       "      dtype='object')"
      ]
     },
     "execution_count": 68,
     "metadata": {},
     "output_type": "execute_result"
    }
   ],
   "source": [
    "df_mvp.columns"
   ]
  },
  {
   "cell_type": "markdown",
   "metadata": {},
   "source": [
    "### MVP with all features"
   ]
  },
  {
   "cell_type": "code",
   "execution_count": 69,
   "metadata": {},
   "outputs": [
    {
     "data": {
      "text/html": [
       "<table class=\"simpletable\">\n",
       "<caption>OLS Regression Results</caption>\n",
       "<tr>\n",
       "  <th>Dep. Variable:</th>        <td>logprice</td>     <th>  R-squared:         </th> <td>   0.976</td> \n",
       "</tr>\n",
       "<tr>\n",
       "  <th>Model:</th>                   <td>OLS</td>       <th>  Adj. R-squared:    </th> <td>   0.976</td> \n",
       "</tr>\n",
       "<tr>\n",
       "  <th>Method:</th>             <td>Least Squares</td>  <th>  F-statistic:       </th> <td>3.398e+04</td>\n",
       "</tr>\n",
       "<tr>\n",
       "  <th>Date:</th>             <td>Fri, 30 Mar 2018</td> <th>  Prob (F-statistic):</th>  <td>  0.00</td>  \n",
       "</tr>\n",
       "<tr>\n",
       "  <th>Time:</th>                 <td>09:43:15</td>     <th>  Log-Likelihood:    </th> <td> -13341.</td> \n",
       "</tr>\n",
       "<tr>\n",
       "  <th>No. Observations:</th>      <td>  9999</td>      <th>  AIC:               </th> <td>2.671e+04</td>\n",
       "</tr>\n",
       "<tr>\n",
       "  <th>Df Residuals:</th>          <td>  9987</td>      <th>  BIC:               </th> <td>2.679e+04</td>\n",
       "</tr>\n",
       "<tr>\n",
       "  <th>Df Model:</th>              <td>    12</td>      <th>                     </th>     <td> </td>    \n",
       "</tr>\n",
       "<tr>\n",
       "  <th>Covariance Type:</th>      <td>nonrobust</td>    <th>                     </th>     <td> </td>    \n",
       "</tr>\n",
       "</table>\n",
       "<table class=\"simpletable\">\n",
       "<tr>\n",
       "       <td></td>         <th>coef</th>     <th>std err</th>      <th>t</th>      <th>P>|t|</th>  <th>[0.025</th>    <th>0.975]</th>  \n",
       "</tr>\n",
       "<tr>\n",
       "  <th>para1</th>      <td>    0.7447</td> <td>    0.011</td> <td>   69.800</td> <td> 0.000</td> <td>    0.724</td> <td>    0.766</td>\n",
       "</tr>\n",
       "<tr>\n",
       "  <th>para2</th>      <td>    0.0018</td> <td> 4.34e-05</td> <td>   42.141</td> <td> 0.000</td> <td>    0.002</td> <td>    0.002</td>\n",
       "</tr>\n",
       "<tr>\n",
       "  <th>para3</th>      <td>-4.479e-06</td> <td> 1.59e-06</td> <td>   -2.815</td> <td> 0.005</td> <td> -7.6e-06</td> <td>-1.36e-06</td>\n",
       "</tr>\n",
       "<tr>\n",
       "  <th>para4</th>      <td>    0.1436</td> <td>    0.003</td> <td>   54.113</td> <td> 0.000</td> <td>    0.138</td> <td>    0.149</td>\n",
       "</tr>\n",
       "<tr>\n",
       "  <th>loc1_ord</th>   <td>   -1.1107</td> <td>    0.029</td> <td>  -38.095</td> <td> 0.000</td> <td>   -1.168</td> <td>   -1.054</td>\n",
       "</tr>\n",
       "<tr>\n",
       "  <th>loc2_ord</th>   <td>    0.1140</td> <td>    0.003</td> <td>   41.637</td> <td> 0.000</td> <td>    0.109</td> <td>    0.119</td>\n",
       "</tr>\n",
       "<tr>\n",
       "  <th>dow[T.Mon]</th> <td>    2.0793</td> <td>    0.030</td> <td>   69.411</td> <td> 0.000</td> <td>    2.021</td> <td>    2.138</td>\n",
       "</tr>\n",
       "<tr>\n",
       "  <th>dow[T.Sat]</th> <td>    1.0935</td> <td>    0.292</td> <td>    3.750</td> <td> 0.000</td> <td>    0.522</td> <td>    1.665</td>\n",
       "</tr>\n",
       "<tr>\n",
       "  <th>dow[T.Sun]</th> <td>    2.3239</td> <td>    0.531</td> <td>    4.374</td> <td> 0.000</td> <td>    1.283</td> <td>    3.365</td>\n",
       "</tr>\n",
       "<tr>\n",
       "  <th>dow[T.Thu]</th> <td>    1.9935</td> <td>    0.029</td> <td>   68.206</td> <td> 0.000</td> <td>    1.936</td> <td>    2.051</td>\n",
       "</tr>\n",
       "<tr>\n",
       "  <th>dow[T.Tue]</th> <td>    2.0853</td> <td>    0.030</td> <td>   69.959</td> <td> 0.000</td> <td>    2.027</td> <td>    2.144</td>\n",
       "</tr>\n",
       "<tr>\n",
       "  <th>dow[T.Wed]</th> <td>    2.0550</td> <td>    0.029</td> <td>   71.718</td> <td> 0.000</td> <td>    1.999</td> <td>    2.111</td>\n",
       "</tr>\n",
       "</table>\n",
       "<table class=\"simpletable\">\n",
       "<tr>\n",
       "  <th>Omnibus:</th>       <td>2332.393</td> <th>  Durbin-Watson:     </th> <td>   1.930</td> \n",
       "</tr>\n",
       "<tr>\n",
       "  <th>Prob(Omnibus):</th>  <td> 0.000</td>  <th>  Jarque-Bera (JB):  </th> <td>56802.017</td>\n",
       "</tr>\n",
       "<tr>\n",
       "  <th>Skew:</th>           <td>-0.545</td>  <th>  Prob(JB):          </th> <td>    0.00</td> \n",
       "</tr>\n",
       "<tr>\n",
       "  <th>Kurtosis:</th>       <td>14.625</td>  <th>  Cond. No.          </th> <td>7.21e+05</td> \n",
       "</tr>\n",
       "</table>"
      ],
      "text/plain": [
       "<class 'statsmodels.iolib.summary.Summary'>\n",
       "\"\"\"\n",
       "                            OLS Regression Results                            \n",
       "==============================================================================\n",
       "Dep. Variable:               logprice   R-squared:                       0.976\n",
       "Model:                            OLS   Adj. R-squared:                  0.976\n",
       "Method:                 Least Squares   F-statistic:                 3.398e+04\n",
       "Date:                Fri, 30 Mar 2018   Prob (F-statistic):               0.00\n",
       "Time:                        09:43:15   Log-Likelihood:                -13341.\n",
       "No. Observations:                9999   AIC:                         2.671e+04\n",
       "Df Residuals:                    9987   BIC:                         2.679e+04\n",
       "Df Model:                          12                                         \n",
       "Covariance Type:            nonrobust                                         \n",
       "==============================================================================\n",
       "                 coef    std err          t      P>|t|      [0.025      0.975]\n",
       "------------------------------------------------------------------------------\n",
       "para1          0.7447      0.011     69.800      0.000       0.724       0.766\n",
       "para2          0.0018   4.34e-05     42.141      0.000       0.002       0.002\n",
       "para3      -4.479e-06   1.59e-06     -2.815      0.005    -7.6e-06   -1.36e-06\n",
       "para4          0.1436      0.003     54.113      0.000       0.138       0.149\n",
       "loc1_ord      -1.1107      0.029    -38.095      0.000      -1.168      -1.054\n",
       "loc2_ord       0.1140      0.003     41.637      0.000       0.109       0.119\n",
       "dow[T.Mon]     2.0793      0.030     69.411      0.000       2.021       2.138\n",
       "dow[T.Sat]     1.0935      0.292      3.750      0.000       0.522       1.665\n",
       "dow[T.Sun]     2.3239      0.531      4.374      0.000       1.283       3.365\n",
       "dow[T.Thu]     1.9935      0.029     68.206      0.000       1.936       2.051\n",
       "dow[T.Tue]     2.0853      0.030     69.959      0.000       2.027       2.144\n",
       "dow[T.Wed]     2.0550      0.029     71.718      0.000       1.999       2.111\n",
       "==============================================================================\n",
       "Omnibus:                     2332.393   Durbin-Watson:                   1.930\n",
       "Prob(Omnibus):                  0.000   Jarque-Bera (JB):            56802.017\n",
       "Skew:                          -0.545   Prob(JB):                         0.00\n",
       "Kurtosis:                      14.625   Cond. No.                     7.21e+05\n",
       "==============================================================================\n",
       "\n",
       "Warnings:\n",
       "[1] Standard Errors assume that the covariance matrix of the errors is correctly specified.\n",
       "[2] The condition number is large, 7.21e+05. This might indicate that there are\n",
       "strong multicollinearity or other numerical problems.\n",
       "\"\"\""
      ]
     },
     "execution_count": 69,
     "metadata": {},
     "output_type": "execute_result"
    }
   ],
   "source": [
    "# quick check of new dataframe and features\n",
    "import statsmodels.api as sm\n",
    "\n",
    "y = df_mvp.logprice\n",
    "x = df_mvp.drop(['logprice'],1)\n",
    "\n",
    "lm5 = sm.OLS(y,x)\n",
    "fit5 = lm5.fit()\n",
    "fit5.summary()"
   ]
  },
  {
   "cell_type": "markdown",
   "metadata": {},
   "source": [
    "### MVP with Train Test Split"
   ]
  },
  {
   "cell_type": "code",
   "execution_count": 112,
   "metadata": {
    "collapsed": true
   },
   "outputs": [],
   "source": [
    "# create train-test split with scikit-learn (to test observations later too)\n",
    "from sklearn.model_selection import train_test_split\n",
    "\n",
    "X_train, X_test, y_train, y_test = train_test_split(x, y, \n",
    "                                                    test_size=0.4, \n",
    "                                                    random_state=0)"
   ]
  },
  {
   "cell_type": "code",
   "execution_count": 113,
   "metadata": {},
   "outputs": [
    {
     "name": "stdout",
     "output_type": "stream",
     "text": [
      "Train R2 0.611808962773\n",
      "Test R2 0.603045458148\n"
     ]
    }
   ],
   "source": [
    "from sklearn.linear_model import LinearRegression\n",
    "# Create an empty model\n",
    "lr = LinearRegression()\n",
    "\n",
    "# Fit model to training set\n",
    "lr.fit(X_train, y_train)\n",
    "\n",
    "print('Train R2', lr.score(X_train, y_train)) # the R^2 of the model on the whole training set\n",
    "print('Test R2', lr.score(X_test, y_test)) # the R^2 of the model for the predicted values of the test set against the actual y_test"
   ]
  },
  {
   "cell_type": "code",
   "execution_count": 114,
   "metadata": {},
   "outputs": [
    {
     "data": {
      "text/plain": [
       "4.7693023132083301"
      ]
     },
     "execution_count": 114,
     "metadata": {},
     "output_type": "execute_result"
    }
   ],
   "source": [
    "lr.intercept_"
   ]
  },
  {
   "cell_type": "code",
   "execution_count": 115,
   "metadata": {},
   "outputs": [
    {
     "data": {
      "text/plain": [
       "array([  2.83384321e-02,   1.16677840e-03,   2.12726582e-06,\n",
       "         7.07123811e-02,   8.82587624e-02,  -8.29239811e-03,\n",
       "         2.48072339e-02,   1.43207505e-01,  -1.68429306e-01,\n",
       "         3.19632699e-02,   3.37300473e-02,   1.68359465e-02])"
      ]
     },
     "execution_count": 115,
     "metadata": {},
     "output_type": "execute_result"
    }
   ],
   "source": [
    "lr.coef_"
   ]
  },
  {
   "cell_type": "code",
   "execution_count": 116,
   "metadata": {
    "collapsed": true
   },
   "outputs": [],
   "source": [
    "yhat = lr.predict(X_test)"
   ]
  },
  {
   "cell_type": "code",
   "execution_count": 117,
   "metadata": {},
   "outputs": [
    {
     "data": {
      "text/plain": [
       "<matplotlib.text.Text at 0x11b92be10>"
      ]
     },
     "execution_count": 117,
     "metadata": {},
     "output_type": "execute_result"
    },
    {
     "data": {
      "image/png": "[encoded data removed]",
      "text/plain": [
       "<matplotlib.figure.Figure at 0x119d33358>"
      ]
     },
     "metadata": {},
     "output_type": "display_data"
    }
   ],
   "source": [
    "# Check Residuals\n",
    "\n",
    "plt.figure(figsize=(10,8))\n",
    "resids = y_test-yhat\n",
    "plt.scatter(yhat, resids, alpha=.8, edgecolors='k')\n",
    "plt.hlines(0,xmin=4.5, xmax=9)\n",
    "plt.title('Residuals Plot of Test Data')"
   ]
  },
  {
   "cell_type": "code",
   "execution_count": 118,
   "metadata": {},
   "outputs": [
    {
     "data": {
      "text/plain": [
       "<matplotlib.axes._subplots.AxesSubplot at 0x1187f35f8>"
      ]
     },
     "execution_count": 118,
     "metadata": {},
     "output_type": "execute_result"
    },
    {
     "data": {
      "image/png": "[encoded data removed]",
      "text/plain": [
       "<matplotlib.figure.Figure at 0x11b814e48>"
      ]
     },
     "metadata": {},
     "output_type": "display_data"
    }
   ],
   "source": [
    "resids.hist()"
   ]
  },
  {
   "cell_type": "code",
   "execution_count": 119,
   "metadata": {},
   "outputs": [
    {
     "name": "stdout",
     "output_type": "stream",
     "text": [
      "[ 0.59856212  0.61381367  0.61103295]\n",
      "0.607802913462\n"
     ]
    }
   ],
   "source": [
    "# Cross validation\n",
    "from sklearn.model_selection import cross_val_score\n",
    "\n",
    "# Perform 3-fold cross validation with\n",
    "\n",
    "lrcv = LinearRegression()\n",
    "scores = cross_val_score(lrcv, X_train, y_train, \n",
    "                         cv=3)\n",
    "\n",
    "print(scores)\n",
    "print(scores.mean())\n",
    "\n",
    "# not much difference with averaging"
   ]
  },
  {
   "cell_type": "code",
   "execution_count": 121,
   "metadata": {},
   "outputs": [],
   "source": [
    "from sklearn.preprocessing import PolynomialFeatures\n",
    "from sklearn.pipeline import make_pipeline"
   ]
  },
  {
   "cell_type": "code",
   "execution_count": 122,
   "metadata": {},
   "outputs": [
    {
     "name": "stdout",
     "output_type": "stream",
     "text": [
      "0.630899102644\n",
      "0.616288258192\n"
     ]
    }
   ],
   "source": [
    "# Set the degree of our polynomial\n",
    "degree = 2\n",
    "# Generate the model type with make_pipeline\n",
    "est = make_pipeline(PolynomialFeatures(degree), LinearRegression())\n",
    "# Fit our model to the training data\n",
    "est.fit(X_train, y_train)\n",
    "\n",
    "print(est.score(X_train, y_train))\n",
    "print(est.score(X_test, y_test))"
   ]
  },
  {
   "cell_type": "markdown",
   "metadata": {},
   "source": [
    "EDIT: Polynomial pipeline was implemented to see if it fit the data better. It marginally improved the model."
   ]
  },
  {
   "cell_type": "markdown",
   "metadata": {},
   "source": [
    "## Future Directions"
   ]
  },
  {
   "cell_type": "markdown",
   "metadata": {},
   "source": [
    "### More feature engineering/Regularization\n",
    "* see which features are actually most important\n",
    "* see if there are different relationships between the target and the features"
   ]
  },
  {
   "cell_type": "code",
   "execution_count": null,
   "metadata": {
    "collapsed": true
   },
   "outputs": [],
   "source": []
  }
 ],
 "metadata": {
  "kernelspec": {
   "display_name": "Python 3",
   "language": "python",
   "name": "python3"
  },
  "language_info": {
   "codemirror_mode": {
    "name": "ipython",
    "version": 3
   },
   "file_extension": ".py",
   "mimetype": "text/x-python",
   "name": "python",
   "nbconvert_exporter": "python",
   "pygments_lexer": "ipython3",
   "version": "3.6.1"
  },
  "toc": {
   "nav_menu": {},
   "number_sections": true,
   "sideBar": true,
   "skip_h1_title": true,
   "toc_cell": false,
   "toc_position": {},
   "toc_section_display": "block",
   "toc_window_display": true
  }
 },
 "nbformat": 4,
 "nbformat_minor": 2
}
