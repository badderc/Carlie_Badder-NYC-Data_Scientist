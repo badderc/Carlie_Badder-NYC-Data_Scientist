{
 "cells": [
  {
   "cell_type": "markdown",
   "metadata": {},
   "source": [
    "## Challenge 2 - Two Dimensional Lists\n",
    "\n",
    "Often, complicated problems can be broken down into a simple pictoral representation of data. For example, take the example of building a representation of an image on your computer. Images can be represented as a collection of pixels, where each pixel has a location and a color.\n",
    "\n",
    "Let's think about the simplest representation of an image, a pure black and white image. A black and white image can be represented by a two-dimensional list of 0's and 1's. For example if we think about the representation of an image, an example of an image could look like this, where 0's represent the pixel being off and 1's represent the pixel being on. \n",
    "\n",
    "**Black Diagonal Line in 3x3 white canvas**\n",
    "```python\n",
    "[\n",
    " [0,0,1],\n",
    " [0,1,0],\n",
    " [1,0,0]\n",
    "]\n",
    "```\n",
    "\n",
    "Create a program that initializes a randomly generated black and white image of **nxk** dimensions where **n=len(row)** and **k=len(col)** and implements a 1-Manhattan blur transformation which causes any 1 in the image to cause the pixel to the left, right above and below a 1 to become a 1. \n",
    "\n",
    "The Manhattan distance is the distance between two points in a grid based on a strictly horizontal and/or vertical path (that is, along the grid lines). \n",
    "\n",
    "**Example of 1-Manhattan Distance Blur Transformation**\n",
    "```python\n",
    "# Randomly Generated Image Before Transformation\n",
    "[                             \n",
    " [1,0,0,0,0],\n",
    " [0,0,0,0,0],   \n",
    " [0,0,0,1,0],\n",
    " [0,0,0,0,0]\n",
    "]\n",
    "# After Transformation\n",
    "[                             \n",
    " [1,1,0,0,0],\n",
    " [1,0,0,1,0],   \n",
    " [0,0,1,1,1],\n",
    " [0,0,0,1,0]\n",
    "]\n",
    "```\n",
    "\n",
    "In the previous assignment we built a method that will produce the blurring with a Manhattan Distance of one.\n",
    "Now instead of only blurring images that are within 1 pixel, we want to specify how far to blur pixels that are within a Manhattan Distance of what is specified. \n",
    "\n",
    "**Example of 2-Manhattan Distance Blur Transformation**\n",
    "```python\n",
    "# Randomly Generated Image Before Transformation\n",
    "[                             \n",
    " [0,0,0,0,0],\n",
    " [0,0,0,0,0],   \n",
    " [0,1,0,0,0],\n",
    " [0,0,0,0,0]\n",
    "]\n",
    "# After Transformation\n",
    "[                             \n",
    " [0,1,0,0,0],\n",
    " [1,1,1,0,0],   \n",
    " [1,1,1,1,0],\n",
    " [1,1,1,0,0]\n",
    "]\n",
    "```\n",
    "\n",
    "Refactor your program to implement a blurring of y-Manhattan distance, where y is any natural number. "
   ]
  },
  {
   "cell_type": "code",
   "execution_count": 2,
   "metadata": {
    "collapsed": true
   },
   "outputs": [],
   "source": [
    "import numpy as np"
   ]
  },
  {
   "cell_type": "code",
   "execution_count": 3,
   "metadata": {
    "collapsed": true
   },
   "outputs": [],
   "source": [
    "def man_dist(sx,sy,ex,ey):\n",
    "    return(abs(ex-sx) + abs(ey-sy))"
   ]
  },
  {
   "cell_type": "code",
   "execution_count": 4,
   "metadata": {
    "collapsed": true
   },
   "outputs": [],
   "source": [
    "def man_transform(x, man_val=1):\n",
    "    x2 = np.copy(x)\n",
    "    for i in range(n):\n",
    "        for j in range(k):\n",
    "            val = x[i,j]\n",
    "            if val == 1:\n",
    "                # print('Start: ' + str(i) + ', ' + str(j))\n",
    "                for i2 in range(n):\n",
    "                    for j2 in range(k):\n",
    "                        if man_dist(i,j,i2,j2) <= man_val:\n",
    "                            # print(i2,j2)\n",
    "                            x2[i2,j2] = 1\n",
    "    return x2\n",
    "        "
   ]
  },
  {
   "cell_type": "code",
   "execution_count": 5,
   "metadata": {},
   "outputs": [],
   "source": [
    "# Create a zeros matrix of size (n,k) with a random number of ones representing an image\n",
    "n = 5 # rows\n",
    "k = 5 # cols\n",
    "ones = np.random.randint(0,n*k)\n",
    "x = np.zeros((n,k), dtype=int)\n",
    "for i in range(2):\n",
    "    n2 = np.random.randint(0,n)\n",
    "    k2 = np.random.randint(0,k)\n",
    "    x[n2, k2] = 1"
   ]
  },
  {
   "cell_type": "code",
   "execution_count": 6,
   "metadata": {},
   "outputs": [
    {
     "data": {
      "text/plain": [
       "array([[0, 0, 0, 0, 0],\n",
       "       [0, 0, 0, 0, 0],\n",
       "       [1, 0, 0, 0, 0],\n",
       "       [0, 0, 0, 0, 0],\n",
       "       [0, 0, 0, 0, 1]])"
      ]
     },
     "execution_count": 6,
     "metadata": {},
     "output_type": "execute_result"
    }
   ],
   "source": [
    "x"
   ]
  },
  {
   "cell_type": "code",
   "execution_count": 7,
   "metadata": {},
   "outputs": [
    {
     "data": {
      "text/plain": [
       "array([[1, 0, 0, 0, 0],\n",
       "       [1, 1, 0, 0, 0],\n",
       "       [1, 1, 1, 0, 1],\n",
       "       [1, 1, 0, 1, 1],\n",
       "       [1, 0, 1, 1, 1]])"
      ]
     },
     "execution_count": 7,
     "metadata": {},
     "output_type": "execute_result"
    }
   ],
   "source": [
    "man_transform(x, 2)"
   ]
  },
  {
   "cell_type": "markdown",
   "metadata": {
    "collapsed": true
   },
   "source": [
    "## Future Work"
   ]
  },
  {
   "cell_type": "markdown",
   "metadata": {},
   "source": [
    "To improve this function, I would come up with a better way to create the random image, rather than having to hardcode the size and the number of 1's. I would also find a more efficient way to calculate the manhattan distances rather than looping through all the rows and columns twice."
   ]
  },
  {
   "cell_type": "code",
   "execution_count": null,
   "metadata": {
    "collapsed": true
   },
   "outputs": [],
   "source": []
  }
 ],
 "metadata": {
  "kernelspec": {
   "display_name": "Python 3",
   "language": "python",
   "name": "python3"
  },
  "language_info": {
   "codemirror_mode": {
    "name": "ipython",
    "version": 3
   },
   "file_extension": ".py",
   "mimetype": "text/x-python",
   "name": "python",
   "nbconvert_exporter": "python",
   "pygments_lexer": "ipython3",
   "version": "3.6.1"
  },
  "toc": {
   "nav_menu": {},
   "number_sections": true,
   "sideBar": true,
   "skip_h1_title": true,
   "toc_cell": false,
   "toc_position": {},
   "toc_section_display": "block",
   "toc_window_display": true
  }
 },
 "nbformat": 4,
 "nbformat_minor": 2
}
