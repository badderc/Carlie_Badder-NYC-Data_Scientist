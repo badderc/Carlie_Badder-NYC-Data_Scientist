{
 "cells": [
  {
   "cell_type": "markdown",
   "metadata": {},
   "source": [
    "## Challenge 1 - IP Address\n",
    "An IP address consists of 4 numbers separated by periods. Each number can be 0 to 255. There are no periods at the start or end of a valid IP address.\n",
    "\n",
    "Create a program that takes an IP address and prints out whether the received IP address is valid or invalid. If the IP address is valid, print out the the length of each segment and their numbers. If the IP address is invalid, let the program detail why the address was invalid and suggestions for fixing the address."
   ]
  },
  {
   "cell_type": "code",
   "execution_count": 1,
   "metadata": {
    "collapsed": true
   },
   "outputs": [],
   "source": [
    "import re\n",
    "import string\n"
   ]
  },
  {
   "cell_type": "code",
   "execution_count": 24,
   "metadata": {
    "collapsed": true
   },
   "outputs": [],
   "source": [
    "def validIP(ipnum):\n",
    "    # check IP input against regular expression to determine if valid\n",
    "    pat = re.compile(r'(^[01]?[0-9]?[0-9]|2[0-4][0-9]|25[0-5])\\.([01]?[0-9]?[0-9]|2[0-4][0-9]|25[0-5])\\.([01]?[0-9]?[0-9]|2[0-4][0-9]|25[0-5])\\.([01]?[0-9]?[0-9]|2[0-4][0-9]|25[0-5]$)\\b')\n",
    "    if pat.fullmatch(ipnum):\n",
    "        print('Valid IP address')\n",
    "        iplist = ipnum.split('.')\n",
    "        for n in iplist:\n",
    "            num_len = len(n)\n",
    "            print(n + ': ' + str(num_len))\n",
    "    else:     \n",
    "        print('Invalid IP address')\n",
    "        punc = string.punctuation\n",
    "        ip_list = list(ipnum)\n",
    "        # check for extra periods\n",
    "        punc_list = [o for o in ip_list if o in punc]\n",
    "        if len(punc_list) > 3:\n",
    "            print('Check for extraneous periods in the IP address')\n",
    "        try:\n",
    "            dotsplit = ipnum.split('.') # split by periods\n",
    "        except:\n",
    "            print('Check for missing periods')\n",
    "        \n",
    "        if len(dotsplit) > 4:\n",
    "            print('Check for extraneous periods in the IP address')\n",
    "        for n in dotsplit:\n",
    "            try:\n",
    "                if float(n):\n",
    "                    if float(n) > 255 or float(n) < 0:\n",
    "                        print('A value in the IP address is out of range', n)\n",
    "                else:\n",
    "                    continue\n",
    "            except:\n",
    "                #print('Check for extra spaces or characters in the address')   \n",
    "                spacesplit = ipnum.split(' ') # split by spaces\n",
    "                if len(spacesplit) > 1:\n",
    "                    print('Check for extra spaces between values or forgotten periods')\n",
    "            \n",
    "    "
   ]
  },
  {
   "cell_type": "code",
   "execution_count": 27,
   "metadata": {
    "collapsed": true
   },
   "outputs": [],
   "source": [
    "ip = \"2 05.3.5.30\""
   ]
  },
  {
   "cell_type": "code",
   "execution_count": 28,
   "metadata": {},
   "outputs": [
    {
     "name": "stdout",
     "output_type": "stream",
     "text": [
      "Invalid IP address\n",
      "Check for extra spaces between values or forgotten periods\n"
     ]
    }
   ],
   "source": [
    "validIP(ip)"
   ]
  },
  {
   "cell_type": "code",
   "execution_count": 29,
   "metadata": {
    "collapsed": true
   },
   "outputs": [],
   "source": [
    "ip2 = \"2.3333.4.1\""
   ]
  },
  {
   "cell_type": "code",
   "execution_count": 30,
   "metadata": {},
   "outputs": [
    {
     "name": "stdout",
     "output_type": "stream",
     "text": [
      "Invalid IP address\n",
      "A value in the IP address is out of range 3333\n"
     ]
    }
   ],
   "source": [
    "validIP(ip2)"
   ]
  },
  {
   "cell_type": "code",
   "execution_count": 31,
   "metadata": {
    "collapsed": true
   },
   "outputs": [],
   "source": [
    "ip3 = \"2.3.4.1\""
   ]
  },
  {
   "cell_type": "code",
   "execution_count": 32,
   "metadata": {},
   "outputs": [
    {
     "name": "stdout",
     "output_type": "stream",
     "text": [
      "Valid IP address\n",
      "2: 1\n",
      "3: 1\n",
      "4: 1\n",
      "1: 1\n"
     ]
    }
   ],
   "source": [
    "validIP(ip3)"
   ]
  },
  {
   "cell_type": "code",
   "execution_count": 33,
   "metadata": {
    "collapsed": true
   },
   "outputs": [],
   "source": [
    "ip4 = \"34.21.3.1.\""
   ]
  },
  {
   "cell_type": "code",
   "execution_count": 34,
   "metadata": {},
   "outputs": [
    {
     "name": "stdout",
     "output_type": "stream",
     "text": [
      "Invalid IP address\n",
      "Check for extraneous periods in the IP address\n",
      "Check for extraneous periods in the IP address\n"
     ]
    }
   ],
   "source": [
    "validIP(ip4)"
   ]
  },
  {
   "cell_type": "code",
   "execution_count": null,
   "metadata": {
    "collapsed": true
   },
   "outputs": [],
   "source": []
  }
 ],
 "metadata": {
  "kernelspec": {
   "display_name": "Python 3",
   "language": "python",
   "name": "python3"
  },
  "language_info": {
   "codemirror_mode": {
    "name": "ipython",
    "version": 3
   },
   "file_extension": ".py",
   "mimetype": "text/x-python",
   "name": "python",
   "nbconvert_exporter": "python",
   "pygments_lexer": "ipython3",
   "version": "3.6.1"
  },
  "toc": {
   "nav_menu": {},
   "number_sections": true,
   "sideBar": true,
   "skip_h1_title": true,
   "toc_cell": false,
   "toc_position": {},
   "toc_section_display": "block",
   "toc_window_display": true
  }
 },
 "nbformat": 4,
 "nbformat_minor": 2
}
